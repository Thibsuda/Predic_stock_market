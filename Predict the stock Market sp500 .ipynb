{
 "cells": [
  {
   "cell_type": "markdown",
   "id": "2975a418",
   "metadata": {},
   "source": [
    "##  This project is  going to create model predict if the stock price will go up or down tomorrow"
   ]
  },
  {
   "cell_type": "markdown",
   "id": "59a2101b",
   "metadata": {},
   "source": [
    "## 500SP index Data yahoo finance"
   ]
  },
  {
   "cell_type": "markdown",
   "id": "bfb99d03",
   "metadata": {},
   "source": [
    "### 1. Download packet \"yahoo finance api daily stock and index and price\""
   ]
  },
  {
   "cell_type": "code",
   "execution_count": 1,
   "id": "4ba89c0e",
   "metadata": {},
   "outputs": [
    {
     "name": "stdout",
     "output_type": "stream",
     "text": [
      "Requirement already satisfied: yfinance in /Users/m1.thibsuda/anaconda3/lib/python3.10/site-packages (0.2.33)\n",
      "Requirement already satisfied: appdirs>=1.4.4 in /Users/m1.thibsuda/anaconda3/lib/python3.10/site-packages (from yfinance) (1.4.4)\n",
      "Requirement already satisfied: numpy>=1.16.5 in /Users/m1.thibsuda/anaconda3/lib/python3.10/site-packages (from yfinance) (1.23.5)\n",
      "Requirement already satisfied: frozendict>=2.3.4 in /Users/m1.thibsuda/anaconda3/lib/python3.10/site-packages (from yfinance) (2.3.10)\n",
      "Requirement already satisfied: requests>=2.31 in /Users/m1.thibsuda/anaconda3/lib/python3.10/site-packages (from yfinance) (2.31.0)\n",
      "Requirement already satisfied: pandas>=1.3.0 in /Users/m1.thibsuda/anaconda3/lib/python3.10/site-packages (from yfinance) (1.5.3)\n",
      "Requirement already satisfied: peewee>=3.16.2 in /Users/m1.thibsuda/anaconda3/lib/python3.10/site-packages (from yfinance) (3.17.0)\n",
      "Requirement already satisfied: multitasking>=0.0.7 in /Users/m1.thibsuda/anaconda3/lib/python3.10/site-packages (from yfinance) (0.0.11)\n",
      "Requirement already satisfied: pytz>=2022.5 in /Users/m1.thibsuda/anaconda3/lib/python3.10/site-packages (from yfinance) (2022.7)\n",
      "Requirement already satisfied: beautifulsoup4>=4.11.1 in /Users/m1.thibsuda/anaconda3/lib/python3.10/site-packages (from yfinance) (4.11.1)\n",
      "Requirement already satisfied: lxml>=4.9.1 in /Users/m1.thibsuda/anaconda3/lib/python3.10/site-packages (from yfinance) (4.9.1)\n",
      "Requirement already satisfied: html5lib>=1.1 in /Users/m1.thibsuda/anaconda3/lib/python3.10/site-packages (from yfinance) (1.1)\n",
      "Requirement already satisfied: soupsieve>1.2 in /Users/m1.thibsuda/anaconda3/lib/python3.10/site-packages (from beautifulsoup4>=4.11.1->yfinance) (2.3.2.post1)\n",
      "Requirement already satisfied: webencodings in /Users/m1.thibsuda/anaconda3/lib/python3.10/site-packages (from html5lib>=1.1->yfinance) (0.5.1)\n",
      "Requirement already satisfied: six>=1.9 in /Users/m1.thibsuda/anaconda3/lib/python3.10/site-packages (from html5lib>=1.1->yfinance) (1.16.0)\n",
      "Requirement already satisfied: python-dateutil>=2.8.1 in /Users/m1.thibsuda/anaconda3/lib/python3.10/site-packages (from pandas>=1.3.0->yfinance) (2.8.2)\n",
      "Requirement already satisfied: idna<4,>=2.5 in /Users/m1.thibsuda/anaconda3/lib/python3.10/site-packages (from requests>=2.31->yfinance) (3.4)\n",
      "Requirement already satisfied: urllib3<3,>=1.21.1 in /Users/m1.thibsuda/anaconda3/lib/python3.10/site-packages (from requests>=2.31->yfinance) (1.26.14)\n",
      "Requirement already satisfied: certifi>=2017.4.17 in /Users/m1.thibsuda/anaconda3/lib/python3.10/site-packages (from requests>=2.31->yfinance) (2022.12.7)\n",
      "Requirement already satisfied: charset-normalizer<4,>=2 in /Users/m1.thibsuda/anaconda3/lib/python3.10/site-packages (from requests>=2.31->yfinance) (2.0.4)\n"
     ]
    }
   ],
   "source": [
    "!pip install yfinance"
   ]
  },
  {
   "cell_type": "code",
   "execution_count": 2,
   "id": "a9001a84",
   "metadata": {},
   "outputs": [],
   "source": [
    "import yfinance as yf"
   ]
  },
  {
   "cell_type": "markdown",
   "id": "b028da3f",
   "metadata": {},
   "source": [
    "### Initialze ticker class that enable us to download price history for a singlw symbol. In this case I use GSPC which is the S&P 500 index"
   ]
  },
  {
   "cell_type": "code",
   "execution_count": 3,
   "id": "09440303",
   "metadata": {},
   "outputs": [],
   "source": [
    "sp500 = yf.Ticker(\"^GSPC\")"
   ]
  },
  {
   "cell_type": "markdown",
   "id": "e211f367",
   "metadata": {},
   "source": [
    "### Query history data  by use .history method ans pass period = max\n",
    "- period max = from the beginning"
   ]
  },
  {
   "cell_type": "code",
   "execution_count": 4,
   "id": "2e7aab7a",
   "metadata": {},
   "outputs": [],
   "source": [
    "sp500 = sp500.history(period=\"max\") # get all data since the index was created"
   ]
  },
  {
   "cell_type": "code",
   "execution_count": 5,
   "id": "9f1d1c47",
   "metadata": {},
   "outputs": [
    {
     "data": {
      "text/html": [
       "<div>\n",
       "<style scoped>\n",
       "    .dataframe tbody tr th:only-of-type {\n",
       "        vertical-align: middle;\n",
       "    }\n",
       "\n",
       "    .dataframe tbody tr th {\n",
       "        vertical-align: top;\n",
       "    }\n",
       "\n",
       "    .dataframe thead th {\n",
       "        text-align: right;\n",
       "    }\n",
       "</style>\n",
       "<table border=\"1\" class=\"dataframe\">\n",
       "  <thead>\n",
       "    <tr style=\"text-align: right;\">\n",
       "      <th></th>\n",
       "      <th>Open</th>\n",
       "      <th>High</th>\n",
       "      <th>Low</th>\n",
       "      <th>Close</th>\n",
       "      <th>Volume</th>\n",
       "      <th>Dividends</th>\n",
       "      <th>Stock Splits</th>\n",
       "    </tr>\n",
       "    <tr>\n",
       "      <th>Date</th>\n",
       "      <th></th>\n",
       "      <th></th>\n",
       "      <th></th>\n",
       "      <th></th>\n",
       "      <th></th>\n",
       "      <th></th>\n",
       "      <th></th>\n",
       "    </tr>\n",
       "  </thead>\n",
       "  <tbody>\n",
       "    <tr>\n",
       "      <th>1927-12-30 00:00:00-05:00</th>\n",
       "      <td>17.660000</td>\n",
       "      <td>17.660000</td>\n",
       "      <td>17.660000</td>\n",
       "      <td>17.660000</td>\n",
       "      <td>0</td>\n",
       "      <td>0.0</td>\n",
       "      <td>0.0</td>\n",
       "    </tr>\n",
       "    <tr>\n",
       "      <th>1928-01-03 00:00:00-05:00</th>\n",
       "      <td>17.760000</td>\n",
       "      <td>17.760000</td>\n",
       "      <td>17.760000</td>\n",
       "      <td>17.760000</td>\n",
       "      <td>0</td>\n",
       "      <td>0.0</td>\n",
       "      <td>0.0</td>\n",
       "    </tr>\n",
       "    <tr>\n",
       "      <th>1928-01-04 00:00:00-05:00</th>\n",
       "      <td>17.719999</td>\n",
       "      <td>17.719999</td>\n",
       "      <td>17.719999</td>\n",
       "      <td>17.719999</td>\n",
       "      <td>0</td>\n",
       "      <td>0.0</td>\n",
       "      <td>0.0</td>\n",
       "    </tr>\n",
       "    <tr>\n",
       "      <th>1928-01-05 00:00:00-05:00</th>\n",
       "      <td>17.549999</td>\n",
       "      <td>17.549999</td>\n",
       "      <td>17.549999</td>\n",
       "      <td>17.549999</td>\n",
       "      <td>0</td>\n",
       "      <td>0.0</td>\n",
       "      <td>0.0</td>\n",
       "    </tr>\n",
       "    <tr>\n",
       "      <th>1928-01-06 00:00:00-05:00</th>\n",
       "      <td>17.660000</td>\n",
       "      <td>17.660000</td>\n",
       "      <td>17.660000</td>\n",
       "      <td>17.660000</td>\n",
       "      <td>0</td>\n",
       "      <td>0.0</td>\n",
       "      <td>0.0</td>\n",
       "    </tr>\n",
       "    <tr>\n",
       "      <th>...</th>\n",
       "      <td>...</td>\n",
       "      <td>...</td>\n",
       "      <td>...</td>\n",
       "      <td>...</td>\n",
       "      <td>...</td>\n",
       "      <td>...</td>\n",
       "      <td>...</td>\n",
       "    </tr>\n",
       "    <tr>\n",
       "      <th>2024-01-08 00:00:00-05:00</th>\n",
       "      <td>4703.700195</td>\n",
       "      <td>4764.540039</td>\n",
       "      <td>4699.819824</td>\n",
       "      <td>4763.540039</td>\n",
       "      <td>3742320000</td>\n",
       "      <td>0.0</td>\n",
       "      <td>0.0</td>\n",
       "    </tr>\n",
       "    <tr>\n",
       "      <th>2024-01-09 00:00:00-05:00</th>\n",
       "      <td>4741.930176</td>\n",
       "      <td>4765.470215</td>\n",
       "      <td>4730.350098</td>\n",
       "      <td>4756.500000</td>\n",
       "      <td>3529960000</td>\n",
       "      <td>0.0</td>\n",
       "      <td>0.0</td>\n",
       "    </tr>\n",
       "    <tr>\n",
       "      <th>2024-01-10 00:00:00-05:00</th>\n",
       "      <td>4759.939941</td>\n",
       "      <td>4790.799805</td>\n",
       "      <td>4756.200195</td>\n",
       "      <td>4783.450195</td>\n",
       "      <td>3498680000</td>\n",
       "      <td>0.0</td>\n",
       "      <td>0.0</td>\n",
       "    </tr>\n",
       "    <tr>\n",
       "      <th>2024-01-11 00:00:00-05:00</th>\n",
       "      <td>4792.129883</td>\n",
       "      <td>4798.500000</td>\n",
       "      <td>4739.580078</td>\n",
       "      <td>4780.240234</td>\n",
       "      <td>3759890000</td>\n",
       "      <td>0.0</td>\n",
       "      <td>0.0</td>\n",
       "    </tr>\n",
       "    <tr>\n",
       "      <th>2024-01-12 00:00:00-05:00</th>\n",
       "      <td>4791.180176</td>\n",
       "      <td>4802.399902</td>\n",
       "      <td>4768.979980</td>\n",
       "      <td>4783.830078</td>\n",
       "      <td>3486340000</td>\n",
       "      <td>0.0</td>\n",
       "      <td>0.0</td>\n",
       "    </tr>\n",
       "  </tbody>\n",
       "</table>\n",
       "<p>24124 rows × 7 columns</p>\n",
       "</div>"
      ],
      "text/plain": [
       "                                  Open         High          Low        Close  \\\n",
       "Date                                                                            \n",
       "1927-12-30 00:00:00-05:00    17.660000    17.660000    17.660000    17.660000   \n",
       "1928-01-03 00:00:00-05:00    17.760000    17.760000    17.760000    17.760000   \n",
       "1928-01-04 00:00:00-05:00    17.719999    17.719999    17.719999    17.719999   \n",
       "1928-01-05 00:00:00-05:00    17.549999    17.549999    17.549999    17.549999   \n",
       "1928-01-06 00:00:00-05:00    17.660000    17.660000    17.660000    17.660000   \n",
       "...                                ...          ...          ...          ...   \n",
       "2024-01-08 00:00:00-05:00  4703.700195  4764.540039  4699.819824  4763.540039   \n",
       "2024-01-09 00:00:00-05:00  4741.930176  4765.470215  4730.350098  4756.500000   \n",
       "2024-01-10 00:00:00-05:00  4759.939941  4790.799805  4756.200195  4783.450195   \n",
       "2024-01-11 00:00:00-05:00  4792.129883  4798.500000  4739.580078  4780.240234   \n",
       "2024-01-12 00:00:00-05:00  4791.180176  4802.399902  4768.979980  4783.830078   \n",
       "\n",
       "                               Volume  Dividends  Stock Splits  \n",
       "Date                                                            \n",
       "1927-12-30 00:00:00-05:00           0        0.0           0.0  \n",
       "1928-01-03 00:00:00-05:00           0        0.0           0.0  \n",
       "1928-01-04 00:00:00-05:00           0        0.0           0.0  \n",
       "1928-01-05 00:00:00-05:00           0        0.0           0.0  \n",
       "1928-01-06 00:00:00-05:00           0        0.0           0.0  \n",
       "...                               ...        ...           ...  \n",
       "2024-01-08 00:00:00-05:00  3742320000        0.0           0.0  \n",
       "2024-01-09 00:00:00-05:00  3529960000        0.0           0.0  \n",
       "2024-01-10 00:00:00-05:00  3498680000        0.0           0.0  \n",
       "2024-01-11 00:00:00-05:00  3759890000        0.0           0.0  \n",
       "2024-01-12 00:00:00-05:00  3486340000        0.0           0.0  \n",
       "\n",
       "[24124 rows x 7 columns]"
      ]
     },
     "execution_count": 5,
     "metadata": {},
     "output_type": "execute_result"
    }
   ],
   "source": [
    "sp500"
   ]
  },
  {
   "cell_type": "markdown",
   "id": "e4a2ca9b",
   "metadata": {},
   "source": [
    "* From the data Im going to predict if the stock price will go up or down tomorrow. \n",
    "\n",
    "*P.S. Im not using dividends and splits data*"
   ]
  },
  {
   "cell_type": "code",
   "execution_count": 6,
   "id": "6ed96503",
   "metadata": {},
   "outputs": [
    {
     "data": {
      "text/plain": [
       "DatetimeIndex(['1927-12-30 00:00:00-05:00', '1928-01-03 00:00:00-05:00',\n",
       "               '1928-01-04 00:00:00-05:00', '1928-01-05 00:00:00-05:00',\n",
       "               '1928-01-06 00:00:00-05:00', '1928-01-09 00:00:00-05:00',\n",
       "               '1928-01-10 00:00:00-05:00', '1928-01-11 00:00:00-05:00',\n",
       "               '1928-01-12 00:00:00-05:00', '1928-01-13 00:00:00-05:00',\n",
       "               ...\n",
       "               '2023-12-29 00:00:00-05:00', '2024-01-02 00:00:00-05:00',\n",
       "               '2024-01-03 00:00:00-05:00', '2024-01-04 00:00:00-05:00',\n",
       "               '2024-01-05 00:00:00-05:00', '2024-01-08 00:00:00-05:00',\n",
       "               '2024-01-09 00:00:00-05:00', '2024-01-10 00:00:00-05:00',\n",
       "               '2024-01-11 00:00:00-05:00', '2024-01-12 00:00:00-05:00'],\n",
       "              dtype='datetime64[ns, America/New_York]', name='Date', length=24124, freq=None)"
      ]
     },
     "execution_count": 6,
     "metadata": {},
     "output_type": "execute_result"
    }
   ],
   "source": [
    "# check on index of the sp500 dataframe\n",
    "\n",
    "sp500.index"
   ]
  },
  {
   "cell_type": "markdown",
   "id": "d41e1839",
   "metadata": {},
   "source": [
    "## 2. Clening and Visualizing our stock market data"
   ]
  },
  {
   "cell_type": "code",
   "execution_count": 7,
   "id": "7d8cad8f",
   "metadata": {},
   "outputs": [
    {
     "data": {
      "text/plain": [
       "<Axes: xlabel='Date'>"
      ]
     },
     "execution_count": 7,
     "metadata": {},
     "output_type": "execute_result"
    },
    {
     "data": {
      "image/png": "[encoded data removed]",
      "text/plain": [
       "<Figure size 640x480 with 1 Axes>"
      ]
     },
     "metadata": {},
     "output_type": "display_data"
    }
   ],
   "source": [
    "#plot data in the data frame. I will plot the closing price against the index.\n",
    "\n",
    "sp500.plot.line(y=\"Close\", use_index=True)#show index whuxh is trading days (dates on x-axis)"
   ]
  },
  {
   "cell_type": "markdown",
   "id": "4c1bfc57",
   "metadata": {},
   "source": [
    "Delate  the extra columns that we don't need\n",
    "\n",
    "del sp500[\"Dividends\"]\n",
    "\n",
    "del sp500[\"Stock Splits\"]"
   ]
  },
  {
   "cell_type": "markdown",
   "id": "e35a6e43",
   "metadata": {},
   "source": [
    "## 3. Setting up Target for machine learning\n",
    "\n",
    "*Key*\n",
    "\n",
    "- some people like to predict absolute price so trying to predict if the stock price will be$17 or $18 tomorrow. The promblem is the model can be extremly accurateit can be very doog at predicting the absolute price but you can **Still lose a ton of money because ultimately if you are buying and selling stock we don't care about getting accurate on the absolute price(unless is option). We. care more about  accurate on the directionality id the price will go up or down**\n",
    "\n",
    "- we can be really close to predicting the actual price and in fact be very far behind on predicting if the stock will go up or down\n",
    "\n",
    "\n",
    "### So our target saying \"on the days that stock goes up can we actually predict that it will go up\n",
    "\n",
    "- that way if we want to buy the stock we know and the price will go up\n",
    " "
   ]
  },
  {
   "cell_type": "code",
   "execution_count": 8,
   "id": "35cdffdb",
   "metadata": {},
   "outputs": [],
   "source": [
    "# Target will be \"the stock will go up or down\"\n",
    "\n",
    "#1 create column call tomorrow  = it going to be tommorrow price.and use pandas .shift method to help\n",
    "\n",
    "sp500[\"Tomorrow\"] = sp500[\"Close\"].shift(-1)# .shift all the price -1 = 1 days\n"
   ]
  },
  {
   "cell_type": "code",
   "execution_count": 10,
   "id": "cc84085c",
   "metadata": {},
   "outputs": [
    {
     "data": {
      "text/html": [
       "<div>\n",
       "<style scoped>\n",
       "    .dataframe tbody tr th:only-of-type {\n",
       "        vertical-align: middle;\n",
       "    }\n",
       "\n",
       "    .dataframe tbody tr th {\n",
       "        vertical-align: top;\n",
       "    }\n",
       "\n",
       "    .dataframe thead th {\n",
       "        text-align: right;\n",
       "    }\n",
       "</style>\n",
       "<table border=\"1\" class=\"dataframe\">\n",
       "  <thead>\n",
       "    <tr style=\"text-align: right;\">\n",
       "      <th></th>\n",
       "      <th>Open</th>\n",
       "      <th>High</th>\n",
       "      <th>Low</th>\n",
       "      <th>Close</th>\n",
       "      <th>Volume</th>\n",
       "      <th>Dividends</th>\n",
       "      <th>Stock Splits</th>\n",
       "      <th>Tomorrow</th>\n",
       "    </tr>\n",
       "    <tr>\n",
       "      <th>Date</th>\n",
       "      <th></th>\n",
       "      <th></th>\n",
       "      <th></th>\n",
       "      <th></th>\n",
       "      <th></th>\n",
       "      <th></th>\n",
       "      <th></th>\n",
       "      <th></th>\n",
       "    </tr>\n",
       "  </thead>\n",
       "  <tbody>\n",
       "    <tr>\n",
       "      <th>1927-12-30 00:00:00-05:00</th>\n",
       "      <td>17.660000</td>\n",
       "      <td>17.660000</td>\n",
       "      <td>17.660000</td>\n",
       "      <td>17.660000</td>\n",
       "      <td>0</td>\n",
       "      <td>0.0</td>\n",
       "      <td>0.0</td>\n",
       "      <td>17.760000</td>\n",
       "    </tr>\n",
       "    <tr>\n",
       "      <th>1928-01-03 00:00:00-05:00</th>\n",
       "      <td>17.760000</td>\n",
       "      <td>17.760000</td>\n",
       "      <td>17.760000</td>\n",
       "      <td>17.760000</td>\n",
       "      <td>0</td>\n",
       "      <td>0.0</td>\n",
       "      <td>0.0</td>\n",
       "      <td>17.719999</td>\n",
       "    </tr>\n",
       "    <tr>\n",
       "      <th>1928-01-04 00:00:00-05:00</th>\n",
       "      <td>17.719999</td>\n",
       "      <td>17.719999</td>\n",
       "      <td>17.719999</td>\n",
       "      <td>17.719999</td>\n",
       "      <td>0</td>\n",
       "      <td>0.0</td>\n",
       "      <td>0.0</td>\n",
       "      <td>17.549999</td>\n",
       "    </tr>\n",
       "    <tr>\n",
       "      <th>1928-01-05 00:00:00-05:00</th>\n",
       "      <td>17.549999</td>\n",
       "      <td>17.549999</td>\n",
       "      <td>17.549999</td>\n",
       "      <td>17.549999</td>\n",
       "      <td>0</td>\n",
       "      <td>0.0</td>\n",
       "      <td>0.0</td>\n",
       "      <td>17.660000</td>\n",
       "    </tr>\n",
       "    <tr>\n",
       "      <th>1928-01-06 00:00:00-05:00</th>\n",
       "      <td>17.660000</td>\n",
       "      <td>17.660000</td>\n",
       "      <td>17.660000</td>\n",
       "      <td>17.660000</td>\n",
       "      <td>0</td>\n",
       "      <td>0.0</td>\n",
       "      <td>0.0</td>\n",
       "      <td>17.500000</td>\n",
       "    </tr>\n",
       "    <tr>\n",
       "      <th>...</th>\n",
       "      <td>...</td>\n",
       "      <td>...</td>\n",
       "      <td>...</td>\n",
       "      <td>...</td>\n",
       "      <td>...</td>\n",
       "      <td>...</td>\n",
       "      <td>...</td>\n",
       "      <td>...</td>\n",
       "    </tr>\n",
       "    <tr>\n",
       "      <th>2024-01-08 00:00:00-05:00</th>\n",
       "      <td>4703.700195</td>\n",
       "      <td>4764.540039</td>\n",
       "      <td>4699.819824</td>\n",
       "      <td>4763.540039</td>\n",
       "      <td>3742320000</td>\n",
       "      <td>0.0</td>\n",
       "      <td>0.0</td>\n",
       "      <td>4756.500000</td>\n",
       "    </tr>\n",
       "    <tr>\n",
       "      <th>2024-01-09 00:00:00-05:00</th>\n",
       "      <td>4741.930176</td>\n",
       "      <td>4765.470215</td>\n",
       "      <td>4730.350098</td>\n",
       "      <td>4756.500000</td>\n",
       "      <td>3529960000</td>\n",
       "      <td>0.0</td>\n",
       "      <td>0.0</td>\n",
       "      <td>4783.450195</td>\n",
       "    </tr>\n",
       "    <tr>\n",
       "      <th>2024-01-10 00:00:00-05:00</th>\n",
       "      <td>4759.939941</td>\n",
       "      <td>4790.799805</td>\n",
       "      <td>4756.200195</td>\n",
       "      <td>4783.450195</td>\n",
       "      <td>3498680000</td>\n",
       "      <td>0.0</td>\n",
       "      <td>0.0</td>\n",
       "      <td>4780.240234</td>\n",
       "    </tr>\n",
       "    <tr>\n",
       "      <th>2024-01-11 00:00:00-05:00</th>\n",
       "      <td>4792.129883</td>\n",
       "      <td>4798.500000</td>\n",
       "      <td>4739.580078</td>\n",
       "      <td>4780.240234</td>\n",
       "      <td>3759890000</td>\n",
       "      <td>0.0</td>\n",
       "      <td>0.0</td>\n",
       "      <td>4783.830078</td>\n",
       "    </tr>\n",
       "    <tr>\n",
       "      <th>2024-01-12 00:00:00-05:00</th>\n",
       "      <td>4791.180176</td>\n",
       "      <td>4802.399902</td>\n",
       "      <td>4768.979980</td>\n",
       "      <td>4783.830078</td>\n",
       "      <td>3486340000</td>\n",
       "      <td>0.0</td>\n",
       "      <td>0.0</td>\n",
       "      <td>NaN</td>\n",
       "    </tr>\n",
       "  </tbody>\n",
       "</table>\n",
       "<p>24124 rows × 8 columns</p>\n",
       "</div>"
      ],
      "text/plain": [
       "                                  Open         High          Low        Close  \\\n",
       "Date                                                                            \n",
       "1927-12-30 00:00:00-05:00    17.660000    17.660000    17.660000    17.660000   \n",
       "1928-01-03 00:00:00-05:00    17.760000    17.760000    17.760000    17.760000   \n",
       "1928-01-04 00:00:00-05:00    17.719999    17.719999    17.719999    17.719999   \n",
       "1928-01-05 00:00:00-05:00    17.549999    17.549999    17.549999    17.549999   \n",
       "1928-01-06 00:00:00-05:00    17.660000    17.660000    17.660000    17.660000   \n",
       "...                                ...          ...          ...          ...   \n",
       "2024-01-08 00:00:00-05:00  4703.700195  4764.540039  4699.819824  4763.540039   \n",
       "2024-01-09 00:00:00-05:00  4741.930176  4765.470215  4730.350098  4756.500000   \n",
       "2024-01-10 00:00:00-05:00  4759.939941  4790.799805  4756.200195  4783.450195   \n",
       "2024-01-11 00:00:00-05:00  4792.129883  4798.500000  4739.580078  4780.240234   \n",
       "2024-01-12 00:00:00-05:00  4791.180176  4802.399902  4768.979980  4783.830078   \n",
       "\n",
       "                               Volume  Dividends  Stock Splits     Tomorrow  \n",
       "Date                                                                         \n",
       "1927-12-30 00:00:00-05:00           0        0.0           0.0    17.760000  \n",
       "1928-01-03 00:00:00-05:00           0        0.0           0.0    17.719999  \n",
       "1928-01-04 00:00:00-05:00           0        0.0           0.0    17.549999  \n",
       "1928-01-05 00:00:00-05:00           0        0.0           0.0    17.660000  \n",
       "1928-01-06 00:00:00-05:00           0        0.0           0.0    17.500000  \n",
       "...                               ...        ...           ...          ...  \n",
       "2024-01-08 00:00:00-05:00  3742320000        0.0           0.0  4756.500000  \n",
       "2024-01-09 00:00:00-05:00  3529960000        0.0           0.0  4783.450195  \n",
       "2024-01-10 00:00:00-05:00  3498680000        0.0           0.0  4780.240234  \n",
       "2024-01-11 00:00:00-05:00  3759890000        0.0           0.0  4783.830078  \n",
       "2024-01-12 00:00:00-05:00  3486340000        0.0           0.0          NaN  \n",
       "\n",
       "[24124 rows x 8 columns]"
      ]
     },
     "execution_count": 10,
     "metadata": {},
     "output_type": "execute_result"
    }
   ],
   "source": [
    "sp500"
   ]
  },
  {
   "cell_type": "markdown",
   "id": "20b06ded",
   "metadata": {},
   "source": [
    "### Set up our Machine Learning target\n",
    "\n",
    "base on\n",
    "\n",
    "* Base on tomorrow price we can set the tarket now.  target = tmor's price greater than today's price\n",
    "\n",
    "* This will return boolean indicating if tomorrow price > today price. \n",
    "\n",
    "* so we need to covert it to interger (numerical) so we can use it in machine learning\n",
    "    - by use .astype(int) method\n",
    "    \n",
    "* New Target should be 1 = price will go up , 0 = price will go down"
   ]
  },
  {
   "cell_type": "code",
   "execution_count": 11,
   "id": "692b83fd",
   "metadata": {},
   "outputs": [],
   "source": [
    "# Base on tomorrow price we can set the tarket now.  target = tmor's price greater than today's price\n",
    "# This will return boolean indicating if tomorrow price > today price. \n",
    "#so we need to covert\n",
    "\n",
    "sp500[\"Target\"] = (sp500[\"Tomorrow\"] > sp500[\"Close\"]).astype(int)# today price mean close column"
   ]
  },
  {
   "cell_type": "code",
   "execution_count": 12,
   "id": "82357f0e",
   "metadata": {},
   "outputs": [
    {
     "data": {
      "text/html": [
       "<div>\n",
       "<style scoped>\n",
       "    .dataframe tbody tr th:only-of-type {\n",
       "        vertical-align: middle;\n",
       "    }\n",
       "\n",
       "    .dataframe tbody tr th {\n",
       "        vertical-align: top;\n",
       "    }\n",
       "\n",
       "    .dataframe thead th {\n",
       "        text-align: right;\n",
       "    }\n",
       "</style>\n",
       "<table border=\"1\" class=\"dataframe\">\n",
       "  <thead>\n",
       "    <tr style=\"text-align: right;\">\n",
       "      <th></th>\n",
       "      <th>Open</th>\n",
       "      <th>High</th>\n",
       "      <th>Low</th>\n",
       "      <th>Close</th>\n",
       "      <th>Volume</th>\n",
       "      <th>Dividends</th>\n",
       "      <th>Stock Splits</th>\n",
       "      <th>Tomorrow</th>\n",
       "      <th>Target</th>\n",
       "    </tr>\n",
       "    <tr>\n",
       "      <th>Date</th>\n",
       "      <th></th>\n",
       "      <th></th>\n",
       "      <th></th>\n",
       "      <th></th>\n",
       "      <th></th>\n",
       "      <th></th>\n",
       "      <th></th>\n",
       "      <th></th>\n",
       "      <th></th>\n",
       "    </tr>\n",
       "  </thead>\n",
       "  <tbody>\n",
       "    <tr>\n",
       "      <th>1927-12-30 00:00:00-05:00</th>\n",
       "      <td>17.660000</td>\n",
       "      <td>17.660000</td>\n",
       "      <td>17.660000</td>\n",
       "      <td>17.660000</td>\n",
       "      <td>0</td>\n",
       "      <td>0.0</td>\n",
       "      <td>0.0</td>\n",
       "      <td>17.760000</td>\n",
       "      <td>1</td>\n",
       "    </tr>\n",
       "    <tr>\n",
       "      <th>1928-01-03 00:00:00-05:00</th>\n",
       "      <td>17.760000</td>\n",
       "      <td>17.760000</td>\n",
       "      <td>17.760000</td>\n",
       "      <td>17.760000</td>\n",
       "      <td>0</td>\n",
       "      <td>0.0</td>\n",
       "      <td>0.0</td>\n",
       "      <td>17.719999</td>\n",
       "      <td>0</td>\n",
       "    </tr>\n",
       "    <tr>\n",
       "      <th>1928-01-04 00:00:00-05:00</th>\n",
       "      <td>17.719999</td>\n",
       "      <td>17.719999</td>\n",
       "      <td>17.719999</td>\n",
       "      <td>17.719999</td>\n",
       "      <td>0</td>\n",
       "      <td>0.0</td>\n",
       "      <td>0.0</td>\n",
       "      <td>17.549999</td>\n",
       "      <td>0</td>\n",
       "    </tr>\n",
       "    <tr>\n",
       "      <th>1928-01-05 00:00:00-05:00</th>\n",
       "      <td>17.549999</td>\n",
       "      <td>17.549999</td>\n",
       "      <td>17.549999</td>\n",
       "      <td>17.549999</td>\n",
       "      <td>0</td>\n",
       "      <td>0.0</td>\n",
       "      <td>0.0</td>\n",
       "      <td>17.660000</td>\n",
       "      <td>1</td>\n",
       "    </tr>\n",
       "    <tr>\n",
       "      <th>1928-01-06 00:00:00-05:00</th>\n",
       "      <td>17.660000</td>\n",
       "      <td>17.660000</td>\n",
       "      <td>17.660000</td>\n",
       "      <td>17.660000</td>\n",
       "      <td>0</td>\n",
       "      <td>0.0</td>\n",
       "      <td>0.0</td>\n",
       "      <td>17.500000</td>\n",
       "      <td>0</td>\n",
       "    </tr>\n",
       "    <tr>\n",
       "      <th>...</th>\n",
       "      <td>...</td>\n",
       "      <td>...</td>\n",
       "      <td>...</td>\n",
       "      <td>...</td>\n",
       "      <td>...</td>\n",
       "      <td>...</td>\n",
       "      <td>...</td>\n",
       "      <td>...</td>\n",
       "      <td>...</td>\n",
       "    </tr>\n",
       "    <tr>\n",
       "      <th>2024-01-08 00:00:00-05:00</th>\n",
       "      <td>4703.700195</td>\n",
       "      <td>4764.540039</td>\n",
       "      <td>4699.819824</td>\n",
       "      <td>4763.540039</td>\n",
       "      <td>3742320000</td>\n",
       "      <td>0.0</td>\n",
       "      <td>0.0</td>\n",
       "      <td>4756.500000</td>\n",
       "      <td>0</td>\n",
       "    </tr>\n",
       "    <tr>\n",
       "      <th>2024-01-09 00:00:00-05:00</th>\n",
       "      <td>4741.930176</td>\n",
       "      <td>4765.470215</td>\n",
       "      <td>4730.350098</td>\n",
       "      <td>4756.500000</td>\n",
       "      <td>3529960000</td>\n",
       "      <td>0.0</td>\n",
       "      <td>0.0</td>\n",
       "      <td>4783.450195</td>\n",
       "      <td>1</td>\n",
       "    </tr>\n",
       "    <tr>\n",
       "      <th>2024-01-10 00:00:00-05:00</th>\n",
       "      <td>4759.939941</td>\n",
       "      <td>4790.799805</td>\n",
       "      <td>4756.200195</td>\n",
       "      <td>4783.450195</td>\n",
       "      <td>3498680000</td>\n",
       "      <td>0.0</td>\n",
       "      <td>0.0</td>\n",
       "      <td>4780.240234</td>\n",
       "      <td>0</td>\n",
       "    </tr>\n",
       "    <tr>\n",
       "      <th>2024-01-11 00:00:00-05:00</th>\n",
       "      <td>4792.129883</td>\n",
       "      <td>4798.500000</td>\n",
       "      <td>4739.580078</td>\n",
       "      <td>4780.240234</td>\n",
       "      <td>3759890000</td>\n",
       "      <td>0.0</td>\n",
       "      <td>0.0</td>\n",
       "      <td>4783.830078</td>\n",
       "      <td>1</td>\n",
       "    </tr>\n",
       "    <tr>\n",
       "      <th>2024-01-12 00:00:00-05:00</th>\n",
       "      <td>4791.180176</td>\n",
       "      <td>4802.399902</td>\n",
       "      <td>4768.979980</td>\n",
       "      <td>4783.830078</td>\n",
       "      <td>3486340000</td>\n",
       "      <td>0.0</td>\n",
       "      <td>0.0</td>\n",
       "      <td>NaN</td>\n",
       "      <td>0</td>\n",
       "    </tr>\n",
       "  </tbody>\n",
       "</table>\n",
       "<p>24124 rows × 9 columns</p>\n",
       "</div>"
      ],
      "text/plain": [
       "                                  Open         High          Low        Close  \\\n",
       "Date                                                                            \n",
       "1927-12-30 00:00:00-05:00    17.660000    17.660000    17.660000    17.660000   \n",
       "1928-01-03 00:00:00-05:00    17.760000    17.760000    17.760000    17.760000   \n",
       "1928-01-04 00:00:00-05:00    17.719999    17.719999    17.719999    17.719999   \n",
       "1928-01-05 00:00:00-05:00    17.549999    17.549999    17.549999    17.549999   \n",
       "1928-01-06 00:00:00-05:00    17.660000    17.660000    17.660000    17.660000   \n",
       "...                                ...          ...          ...          ...   \n",
       "2024-01-08 00:00:00-05:00  4703.700195  4764.540039  4699.819824  4763.540039   \n",
       "2024-01-09 00:00:00-05:00  4741.930176  4765.470215  4730.350098  4756.500000   \n",
       "2024-01-10 00:00:00-05:00  4759.939941  4790.799805  4756.200195  4783.450195   \n",
       "2024-01-11 00:00:00-05:00  4792.129883  4798.500000  4739.580078  4780.240234   \n",
       "2024-01-12 00:00:00-05:00  4791.180176  4802.399902  4768.979980  4783.830078   \n",
       "\n",
       "                               Volume  Dividends  Stock Splits     Tomorrow  \\\n",
       "Date                                                                          \n",
       "1927-12-30 00:00:00-05:00           0        0.0           0.0    17.760000   \n",
       "1928-01-03 00:00:00-05:00           0        0.0           0.0    17.719999   \n",
       "1928-01-04 00:00:00-05:00           0        0.0           0.0    17.549999   \n",
       "1928-01-05 00:00:00-05:00           0        0.0           0.0    17.660000   \n",
       "1928-01-06 00:00:00-05:00           0        0.0           0.0    17.500000   \n",
       "...                               ...        ...           ...          ...   \n",
       "2024-01-08 00:00:00-05:00  3742320000        0.0           0.0  4756.500000   \n",
       "2024-01-09 00:00:00-05:00  3529960000        0.0           0.0  4783.450195   \n",
       "2024-01-10 00:00:00-05:00  3498680000        0.0           0.0  4780.240234   \n",
       "2024-01-11 00:00:00-05:00  3759890000        0.0           0.0  4783.830078   \n",
       "2024-01-12 00:00:00-05:00  3486340000        0.0           0.0          NaN   \n",
       "\n",
       "                           Target  \n",
       "Date                               \n",
       "1927-12-30 00:00:00-05:00       1  \n",
       "1928-01-03 00:00:00-05:00       0  \n",
       "1928-01-04 00:00:00-05:00       0  \n",
       "1928-01-05 00:00:00-05:00       1  \n",
       "1928-01-06 00:00:00-05:00       0  \n",
       "...                           ...  \n",
       "2024-01-08 00:00:00-05:00       0  \n",
       "2024-01-09 00:00:00-05:00       1  \n",
       "2024-01-10 00:00:00-05:00       0  \n",
       "2024-01-11 00:00:00-05:00       1  \n",
       "2024-01-12 00:00:00-05:00       0  \n",
       "\n",
       "[24124 rows x 9 columns]"
      ]
     },
     "execution_count": 12,
     "metadata": {},
     "output_type": "execute_result"
    }
   ],
   "source": [
    "sp500"
   ]
  },
  {
   "cell_type": "markdown",
   "id": "4f5c4a89",
   "metadata": {},
   "source": [
    "### Key\n",
    "\n",
    "* There a lot of histoical  data in this data frame and usually a lot of data is great byt for stock marketif we go back to far the market could have shifted fundamentally and some of old data may not be useful in making future predictions * "
   ]
  },
  {
   "cell_type": "code",
   "execution_count": 13,
   "id": "fc7351a4",
   "metadata": {},
   "outputs": [],
   "source": [
    "# Remove data before 1990 by .loc[start:end] medtod. Only take rows where the index is at least 1990\n",
    "\n",
    "sp500 = sp500.loc[\"1990-01-01\":].copy()\n",
    "\n",
    "#.copy() helped with pandas copy warning. not mass up with the original data frame"
   ]
  },
  {
   "cell_type": "code",
   "execution_count": 14,
   "id": "1bd907fb",
   "metadata": {},
   "outputs": [
    {
     "data": {
      "text/html": [
       "<div>\n",
       "<style scoped>\n",
       "    .dataframe tbody tr th:only-of-type {\n",
       "        vertical-align: middle;\n",
       "    }\n",
       "\n",
       "    .dataframe tbody tr th {\n",
       "        vertical-align: top;\n",
       "    }\n",
       "\n",
       "    .dataframe thead th {\n",
       "        text-align: right;\n",
       "    }\n",
       "</style>\n",
       "<table border=\"1\" class=\"dataframe\">\n",
       "  <thead>\n",
       "    <tr style=\"text-align: right;\">\n",
       "      <th></th>\n",
       "      <th>Open</th>\n",
       "      <th>High</th>\n",
       "      <th>Low</th>\n",
       "      <th>Close</th>\n",
       "      <th>Volume</th>\n",
       "      <th>Dividends</th>\n",
       "      <th>Stock Splits</th>\n",
       "      <th>Tomorrow</th>\n",
       "      <th>Target</th>\n",
       "    </tr>\n",
       "    <tr>\n",
       "      <th>Date</th>\n",
       "      <th></th>\n",
       "      <th></th>\n",
       "      <th></th>\n",
       "      <th></th>\n",
       "      <th></th>\n",
       "      <th></th>\n",
       "      <th></th>\n",
       "      <th></th>\n",
       "      <th></th>\n",
       "    </tr>\n",
       "  </thead>\n",
       "  <tbody>\n",
       "    <tr>\n",
       "      <th>1990-01-02 00:00:00-05:00</th>\n",
       "      <td>353.399994</td>\n",
       "      <td>359.690002</td>\n",
       "      <td>351.980011</td>\n",
       "      <td>359.690002</td>\n",
       "      <td>162070000</td>\n",
       "      <td>0.0</td>\n",
       "      <td>0.0</td>\n",
       "      <td>358.760010</td>\n",
       "      <td>0</td>\n",
       "    </tr>\n",
       "    <tr>\n",
       "      <th>1990-01-03 00:00:00-05:00</th>\n",
       "      <td>359.690002</td>\n",
       "      <td>360.589996</td>\n",
       "      <td>357.890015</td>\n",
       "      <td>358.760010</td>\n",
       "      <td>192330000</td>\n",
       "      <td>0.0</td>\n",
       "      <td>0.0</td>\n",
       "      <td>355.670013</td>\n",
       "      <td>0</td>\n",
       "    </tr>\n",
       "    <tr>\n",
       "      <th>1990-01-04 00:00:00-05:00</th>\n",
       "      <td>358.760010</td>\n",
       "      <td>358.760010</td>\n",
       "      <td>352.890015</td>\n",
       "      <td>355.670013</td>\n",
       "      <td>177000000</td>\n",
       "      <td>0.0</td>\n",
       "      <td>0.0</td>\n",
       "      <td>352.200012</td>\n",
       "      <td>0</td>\n",
       "    </tr>\n",
       "    <tr>\n",
       "      <th>1990-01-05 00:00:00-05:00</th>\n",
       "      <td>355.670013</td>\n",
       "      <td>355.670013</td>\n",
       "      <td>351.350006</td>\n",
       "      <td>352.200012</td>\n",
       "      <td>158530000</td>\n",
       "      <td>0.0</td>\n",
       "      <td>0.0</td>\n",
       "      <td>353.790009</td>\n",
       "      <td>1</td>\n",
       "    </tr>\n",
       "    <tr>\n",
       "      <th>1990-01-08 00:00:00-05:00</th>\n",
       "      <td>352.200012</td>\n",
       "      <td>354.239990</td>\n",
       "      <td>350.540009</td>\n",
       "      <td>353.790009</td>\n",
       "      <td>140110000</td>\n",
       "      <td>0.0</td>\n",
       "      <td>0.0</td>\n",
       "      <td>349.619995</td>\n",
       "      <td>0</td>\n",
       "    </tr>\n",
       "    <tr>\n",
       "      <th>...</th>\n",
       "      <td>...</td>\n",
       "      <td>...</td>\n",
       "      <td>...</td>\n",
       "      <td>...</td>\n",
       "      <td>...</td>\n",
       "      <td>...</td>\n",
       "      <td>...</td>\n",
       "      <td>...</td>\n",
       "      <td>...</td>\n",
       "    </tr>\n",
       "    <tr>\n",
       "      <th>2024-01-08 00:00:00-05:00</th>\n",
       "      <td>4703.700195</td>\n",
       "      <td>4764.540039</td>\n",
       "      <td>4699.819824</td>\n",
       "      <td>4763.540039</td>\n",
       "      <td>3742320000</td>\n",
       "      <td>0.0</td>\n",
       "      <td>0.0</td>\n",
       "      <td>4756.500000</td>\n",
       "      <td>0</td>\n",
       "    </tr>\n",
       "    <tr>\n",
       "      <th>2024-01-09 00:00:00-05:00</th>\n",
       "      <td>4741.930176</td>\n",
       "      <td>4765.470215</td>\n",
       "      <td>4730.350098</td>\n",
       "      <td>4756.500000</td>\n",
       "      <td>3529960000</td>\n",
       "      <td>0.0</td>\n",
       "      <td>0.0</td>\n",
       "      <td>4783.450195</td>\n",
       "      <td>1</td>\n",
       "    </tr>\n",
       "    <tr>\n",
       "      <th>2024-01-10 00:00:00-05:00</th>\n",
       "      <td>4759.939941</td>\n",
       "      <td>4790.799805</td>\n",
       "      <td>4756.200195</td>\n",
       "      <td>4783.450195</td>\n",
       "      <td>3498680000</td>\n",
       "      <td>0.0</td>\n",
       "      <td>0.0</td>\n",
       "      <td>4780.240234</td>\n",
       "      <td>0</td>\n",
       "    </tr>\n",
       "    <tr>\n",
       "      <th>2024-01-11 00:00:00-05:00</th>\n",
       "      <td>4792.129883</td>\n",
       "      <td>4798.500000</td>\n",
       "      <td>4739.580078</td>\n",
       "      <td>4780.240234</td>\n",
       "      <td>3759890000</td>\n",
       "      <td>0.0</td>\n",
       "      <td>0.0</td>\n",
       "      <td>4783.830078</td>\n",
       "      <td>1</td>\n",
       "    </tr>\n",
       "    <tr>\n",
       "      <th>2024-01-12 00:00:00-05:00</th>\n",
       "      <td>4791.180176</td>\n",
       "      <td>4802.399902</td>\n",
       "      <td>4768.979980</td>\n",
       "      <td>4783.830078</td>\n",
       "      <td>3486340000</td>\n",
       "      <td>0.0</td>\n",
       "      <td>0.0</td>\n",
       "      <td>NaN</td>\n",
       "      <td>0</td>\n",
       "    </tr>\n",
       "  </tbody>\n",
       "</table>\n",
       "<p>8574 rows × 9 columns</p>\n",
       "</div>"
      ],
      "text/plain": [
       "                                  Open         High          Low        Close  \\\n",
       "Date                                                                            \n",
       "1990-01-02 00:00:00-05:00   353.399994   359.690002   351.980011   359.690002   \n",
       "1990-01-03 00:00:00-05:00   359.690002   360.589996   357.890015   358.760010   \n",
       "1990-01-04 00:00:00-05:00   358.760010   358.760010   352.890015   355.670013   \n",
       "1990-01-05 00:00:00-05:00   355.670013   355.670013   351.350006   352.200012   \n",
       "1990-01-08 00:00:00-05:00   352.200012   354.239990   350.540009   353.790009   \n",
       "...                                ...          ...          ...          ...   \n",
       "2024-01-08 00:00:00-05:00  4703.700195  4764.540039  4699.819824  4763.540039   \n",
       "2024-01-09 00:00:00-05:00  4741.930176  4765.470215  4730.350098  4756.500000   \n",
       "2024-01-10 00:00:00-05:00  4759.939941  4790.799805  4756.200195  4783.450195   \n",
       "2024-01-11 00:00:00-05:00  4792.129883  4798.500000  4739.580078  4780.240234   \n",
       "2024-01-12 00:00:00-05:00  4791.180176  4802.399902  4768.979980  4783.830078   \n",
       "\n",
       "                               Volume  Dividends  Stock Splits     Tomorrow  \\\n",
       "Date                                                                          \n",
       "1990-01-02 00:00:00-05:00   162070000        0.0           0.0   358.760010   \n",
       "1990-01-03 00:00:00-05:00   192330000        0.0           0.0   355.670013   \n",
       "1990-01-04 00:00:00-05:00   177000000        0.0           0.0   352.200012   \n",
       "1990-01-05 00:00:00-05:00   158530000        0.0           0.0   353.790009   \n",
       "1990-01-08 00:00:00-05:00   140110000        0.0           0.0   349.619995   \n",
       "...                               ...        ...           ...          ...   \n",
       "2024-01-08 00:00:00-05:00  3742320000        0.0           0.0  4756.500000   \n",
       "2024-01-09 00:00:00-05:00  3529960000        0.0           0.0  4783.450195   \n",
       "2024-01-10 00:00:00-05:00  3498680000        0.0           0.0  4780.240234   \n",
       "2024-01-11 00:00:00-05:00  3759890000        0.0           0.0  4783.830078   \n",
       "2024-01-12 00:00:00-05:00  3486340000        0.0           0.0          NaN   \n",
       "\n",
       "                           Target  \n",
       "Date                               \n",
       "1990-01-02 00:00:00-05:00       0  \n",
       "1990-01-03 00:00:00-05:00       0  \n",
       "1990-01-04 00:00:00-05:00       0  \n",
       "1990-01-05 00:00:00-05:00       1  \n",
       "1990-01-08 00:00:00-05:00       0  \n",
       "...                           ...  \n",
       "2024-01-08 00:00:00-05:00       0  \n",
       "2024-01-09 00:00:00-05:00       1  \n",
       "2024-01-10 00:00:00-05:00       0  \n",
       "2024-01-11 00:00:00-05:00       1  \n",
       "2024-01-12 00:00:00-05:00       0  \n",
       "\n",
       "[8574 rows x 9 columns]"
      ]
     },
     "execution_count": 14,
     "metadata": {},
     "output_type": "execute_result"
    }
   ],
   "source": [
    "sp500"
   ]
  },
  {
   "cell_type": "markdown",
   "id": "1576d8ee",
   "metadata": {},
   "source": [
    "## 4. Training an initial Machine learning model"
   ]
  },
  {
   "cell_type": "markdown",
   "id": "4ab11a73",
   "metadata": {},
   "source": [
    "\n",
    "* Use RandomForestClassification in this model because *\n",
    "    - 1. Randomforestclassification work by training a bunch of individual decision tree with randomized parameters and then avg the results from those decision trees\n",
    "    - 2. It hard for them to be overfit than the other model\n",
    "    - 3. They also run quickly and \n",
    "    - 4. Thry can pick up non-linear relationship or tendencies in data ex: open price is not linearly correlated with the target like open price is 4000 versus 3000 so there no linear relationship between open price and the target. the open price is higher but it doen't mean target will higher."
   ]
  },
  {
   "cell_type": "markdown",
   "id": "65ae5235",
   "metadata": {},
   "source": [
    "*parameter explain*\n",
    "\n",
    "- n_estimators = is the number of  individul tree dicision we want to train, the higher more accutacy\n",
    "\n",
    "- min_sample)split = help us with aginst overfitting. decision tree have a tendency to overfit if they build the tree too deeply,the higher we set it the less accurate the model will be but the less is overfit.\n",
    "\n",
    "- random_state = randome.seed=42\n",
    "\n",
    "### *Key note*\n",
    "*this is time serie data)time series can't use Cross validation.its will get high score in training but horible in real world*\n"
   ]
  },
  {
   "cell_type": "code",
   "execution_count": 15,
   "id": "8d897368",
   "metadata": {},
   "outputs": [
    {
     "data": {
      "text/html": [
       "<style>#sk-container-id-1 {color: black;}#sk-container-id-1 pre{padding: 0;}#sk-container-id-1 div.sk-toggleable {background-color: white;}#sk-container-id-1 label.sk-toggleable__label {cursor: pointer;display: block;width: 100%;margin-bottom: 0;padding: 0.3em;box-sizing: border-box;text-align: center;}#sk-container-id-1 label.sk-toggleable__label-arrow:before {content: \"▸\";float: left;margin-right: 0.25em;color: #696969;}#sk-container-id-1 label.sk-toggleable__label-arrow:hover:before {color: black;}#sk-container-id-1 div.sk-estimator:hover label.sk-toggleable__label-arrow:before {color: black;}#sk-container-id-1 div.sk-toggleable__content {max-height: 0;max-width: 0;overflow: hidden;text-align: left;background-color: #f0f8ff;}#sk-container-id-1 div.sk-toggleable__content pre {margin: 0.2em;color: black;border-radius: 0.25em;background-color: #f0f8ff;}#sk-container-id-1 input.sk-toggleable__control:checked~div.sk-toggleable__content {max-height: 200px;max-width: 100%;overflow: auto;}#sk-container-id-1 input.sk-toggleable__control:checked~label.sk-toggleable__label-arrow:before {content: \"▾\";}#sk-container-id-1 div.sk-estimator input.sk-toggleable__control:checked~label.sk-toggleable__label {background-color: #d4ebff;}#sk-container-id-1 div.sk-label input.sk-toggleable__control:checked~label.sk-toggleable__label {background-color: #d4ebff;}#sk-container-id-1 input.sk-hidden--visually {border: 0;clip: rect(1px 1px 1px 1px);clip: rect(1px, 1px, 1px, 1px);height: 1px;margin: -1px;overflow: hidden;padding: 0;position: absolute;width: 1px;}#sk-container-id-1 div.sk-estimator {font-family: monospace;background-color: #f0f8ff;border: 1px dotted black;border-radius: 0.25em;box-sizing: border-box;margin-bottom: 0.5em;}#sk-container-id-1 div.sk-estimator:hover {background-color: #d4ebff;}#sk-container-id-1 div.sk-parallel-item::after {content: \"\";width: 100%;border-bottom: 1px solid gray;flex-grow: 1;}#sk-container-id-1 div.sk-label:hover label.sk-toggleable__label {background-color: #d4ebff;}#sk-container-id-1 div.sk-serial::before {content: \"\";position: absolute;border-left: 1px solid gray;box-sizing: border-box;top: 0;bottom: 0;left: 50%;z-index: 0;}#sk-container-id-1 div.sk-serial {display: flex;flex-direction: column;align-items: center;background-color: white;padding-right: 0.2em;padding-left: 0.2em;position: relative;}#sk-container-id-1 div.sk-item {position: relative;z-index: 1;}#sk-container-id-1 div.sk-parallel {display: flex;align-items: stretch;justify-content: center;background-color: white;position: relative;}#sk-container-id-1 div.sk-item::before, #sk-container-id-1 div.sk-parallel-item::before {content: \"\";position: absolute;border-left: 1px solid gray;box-sizing: border-box;top: 0;bottom: 0;left: 50%;z-index: -1;}#sk-container-id-1 div.sk-parallel-item {display: flex;flex-direction: column;z-index: 1;position: relative;background-color: white;}#sk-container-id-1 div.sk-parallel-item:first-child::after {align-self: flex-end;width: 50%;}#sk-container-id-1 div.sk-parallel-item:last-child::after {align-self: flex-start;width: 50%;}#sk-container-id-1 div.sk-parallel-item:only-child::after {width: 0;}#sk-container-id-1 div.sk-dashed-wrapped {border: 1px dashed gray;margin: 0 0.4em 0.5em 0.4em;box-sizing: border-box;padding-bottom: 0.4em;background-color: white;}#sk-container-id-1 div.sk-label label {font-family: monospace;font-weight: bold;display: inline-block;line-height: 1.2em;}#sk-container-id-1 div.sk-label-container {text-align: center;}#sk-container-id-1 div.sk-container {/* jupyter's `normalize.less` sets `[hidden] { display: none; }` but bootstrap.min.css set `[hidden] { display: none !important; }` so we also need the `!important` here to be able to override the default hidden behavior on the sphinx rendered scikit-learn.org. See: https://github.com/scikit-learn/scikit-learn/issues/21755 */display: inline-block !important;position: relative;}#sk-container-id-1 div.sk-text-repr-fallback {display: none;}</style><div id=\"sk-container-id-1\" class=\"sk-top-container\"><div class=\"sk-text-repr-fallback\"><pre>RandomForestClassifier(min_samples_split=100, random_state=42)</pre><b>In a Jupyter environment, please rerun this cell to show the HTML representation or trust the notebook. <br />On GitHub, the HTML representation is unable to render, please try loading this page with nbviewer.org.</b></div><div class=\"sk-container\" hidden><div class=\"sk-item\"><div class=\"sk-estimator sk-toggleable\"><input class=\"sk-toggleable__control sk-hidden--visually\" id=\"sk-estimator-id-1\" type=\"checkbox\" checked><label for=\"sk-estimator-id-1\" class=\"sk-toggleable__label sk-toggleable__label-arrow\">RandomForestClassifier</label><div class=\"sk-toggleable__content\"><pre>RandomForestClassifier(min_samples_split=100, random_state=42)</pre></div></div></div></div></div>"
      ],
      "text/plain": [
       "RandomForestClassifier(min_samples_split=100, random_state=42)"
      ]
     },
     "execution_count": 15,
     "metadata": {},
     "output_type": "execute_result"
    }
   ],
   "source": [
    "# 1. import model\n",
    "from sklearn.ensemble import RandomForestClassifier\n",
    "\n",
    "# 2. innitail model by pass a few parameters ,\n",
    "# n_estimators = is the number of  individul tree dicision we want to train, the higher more accutacy\n",
    "# min_sample)split = help us with aginst overfitting. decision tree have a tendency to overfit if they build the tree too deeply.\n",
    "model = RandomForestClassifier(n_estimators = 100,min_samples_split=100,random_state=42)\n",
    "\n",
    "# 3. split data up to the train and test set(this is time serie data). time series can't use Cross validation\n",
    "train = sp500.iloc[:-100]#use all the rows except the last 100 rows into train-set\n",
    "test = sp500.iloc[-100:]#put the last 100 rows only into test-set\n",
    "\n",
    "#4. spacific column that we needed to perdictor to protect leaking DATA\n",
    "predictors = [\"Open\",\"High\",\"Low\",\"Close\",\"Volume\"]\n",
    "\n",
    "#5 Fit the model\n",
    "model.fit(train[predictors], train[\"Target\"]) #train model using the predictor columns in order to predict target\n"
   ]
  },
  {
   "cell_type": "markdown",
   "id": "0e334916",
   "metadata": {},
   "source": [
    "## 5. Measure how accurate the model is\n",
    "\n",
    " In this case Im using precision_socre because I want to know what the percentage of the time when we said market would go up did it actually go up"
   ]
  },
  {
   "cell_type": "code",
   "execution_count": 16,
   "id": "c53568b4",
   "metadata": {},
   "outputs": [],
   "source": [
    "# Use test-set with preds\n",
    "from sklearn.metrics import precision_score\n",
    "\n",
    "preds = model.predict(test[predictors])# pass test-set to predictors"
   ]
  },
  {
   "cell_type": "code",
   "execution_count": 17,
   "id": "869522fe",
   "metadata": {},
   "outputs": [],
   "source": [
    "#prediction will be in numpy array so change to pandas series to make it easier by \n",
    "#pass .pd.Series and set index as test data set\n",
    "\n",
    "import pandas as pd\n",
    "preds = pd.Series(preds, index=test.index)#set index as test data set"
   ]
  },
  {
   "cell_type": "code",
   "execution_count": 18,
   "id": "e1af90a9",
   "metadata": {},
   "outputs": [
    {
     "data": {
      "text/plain": [
       "Date\n",
       "2023-08-22 00:00:00-04:00    1\n",
       "2023-08-23 00:00:00-04:00    1\n",
       "2023-08-24 00:00:00-04:00    1\n",
       "2023-08-25 00:00:00-04:00    0\n",
       "2023-08-28 00:00:00-04:00    0\n",
       "                            ..\n",
       "2024-01-08 00:00:00-05:00    0\n",
       "2024-01-09 00:00:00-05:00    0\n",
       "2024-01-10 00:00:00-05:00    0\n",
       "2024-01-11 00:00:00-05:00    0\n",
       "2024-01-12 00:00:00-05:00    0\n",
       "Length: 100, dtype: int64"
      ]
     },
     "execution_count": 18,
     "metadata": {},
     "output_type": "execute_result"
    }
   ],
   "source": [
    "preds"
   ]
  },
  {
   "cell_type": "code",
   "execution_count": 19,
   "id": "48a067a6",
   "metadata": {},
   "outputs": [
    {
     "data": {
      "text/plain": [
       "0.5581395348837209"
      ]
     },
     "execution_count": 19,
     "metadata": {},
     "output_type": "execute_result"
    }
   ],
   "source": [
    "# Calculate precision score\n",
    "\n",
    "precision_score(test[\"Target\"], preds)# using actual target and predicted target"
   ]
  },
  {
   "cell_type": "markdown",
   "id": "ea4f5c18",
   "metadata": {},
   "source": [
    "**Note\n",
    "- why test target is actual value?\n",
    "- how to define which one is x_train y_train and "
   ]
  },
  {
   "cell_type": "code",
   "execution_count": 20,
   "id": "64e39737",
   "metadata": {},
   "outputs": [],
   "source": [
    "# Plot our prediction by combine actual value and predicted value by use \"pd.concat(actual value,preds)\"\n",
    "#pass axis=1 for treat each of these inputs as columns in our data set\n",
    "\n",
    "combined = pd.concat([test[\"Target\"],preds], axis=1)#concatenating test target which actual value and preds value"
   ]
  },
  {
   "cell_type": "code",
   "execution_count": 21,
   "id": "dfa85c8d",
   "metadata": {},
   "outputs": [
    {
     "data": {
      "text/plain": [
       "<Axes: xlabel='Date'>"
      ]
     },
     "execution_count": 21,
     "metadata": {},
     "output_type": "execute_result"
    },
    {
     "data": {
      "image/png": "[encoded data removed]",
      "text/plain": [
       "<Figure size 640x480 with 1 Axes>"
      ]
     },
     "metadata": {},
     "output_type": "display_data"
    }
   ],
   "source": [
    "combined.plot()"
   ]
  },
  {
   "cell_type": "markdown",
   "id": "b1dafd6e",
   "metadata": {},
   "source": [
    "** our prediction still so far "
   ]
  },
  {
   "cell_type": "markdown",
   "id": "f8ed5b02",
   "metadata": {},
   "source": [
    "## Building a backtesting system\n",
    "key:\n",
    "- Need to have certian amount of data to train  first model\n",
    "- create prediction funtion\n",
    "- create backtest funtion which is take\n",
    "     - sp500 data, a machine learning model,prediction,start value and step value"
   ]
  },
  {
   "cell_type": "code",
   "execution_count": 22,
   "id": "117a73cb",
   "metadata": {},
   "outputs": [],
   "source": [
    "#Create prediction funtion for backtesting.\n",
    "\n",
    "\n",
    "def predict(train, test, predictors, model):#earier I only test data with the last 100\n",
    "    model.fit(train[predictors], train[\"Target\"])\n",
    "    #generating predictions\n",
    "    preds = model.predict(test[predictors])\n",
    "    #combiled our model into a series as pd.Series\n",
    "    preds = pd.Series(preds, index=test.index, name=\"Predictions\")#giving series a name of prediction\n",
    "    #combining everythings together\n",
    "    combined = pd.concat([test[\"Target\"], preds], axis=1)\n",
    "    #return combined data frame with actual value and the prediction\n",
    "    return combined\n",
    "    "
   ]
  },
  {
   "cell_type": "markdown",
   "id": "75928f57",
   "metadata": {},
   "source": [
    "### This going to take 10 year of data and predict values for the 11th year than take the  first 11 of data predict value of the 12th year.......and so on"
   ]
  },
  {
   "cell_type": "code",
   "execution_count": 23,
   "id": "c8d92a88",
   "metadata": {},
   "outputs": [],
   "source": [
    "# #Backtest funtion .** when we backtest we needed a certain amount of data to train first model.\n",
    "# ps. every trading year has about 250 days\n",
    "\n",
    "def backtest(data, model, predictors, start=2500, step=250): #This take 10 years of data\n",
    "    # 1 create a list call all prediction.a list where of data frame where dataframe is prediction for a single year\n",
    "    all_predictions =[]\n",
    "    #2 Create funtion to loop acroos our data year by year\n",
    "        # and make presiction for all of the years except the first 10 and so\n",
    "    for i in range(start, data.shape[0], step):\n",
    "        # 3 split up our training and test data and use .copy to avoid the original copy warning\n",
    "        train = data.iloc[0:i].copy() #training set is all of the year perio to the current year\n",
    "        test = data.iloc[i:(i+step)].copy()#test set is current year\n",
    "        # 4 Use predict funtion that we created to generate our predictions\n",
    "        predictions = predict(train, test, predictors, model)\n",
    "        # 5 Append all_prediction to our predictions for the given year\n",
    "        all_predictions.append(predictions)\n",
    "    #6.concatenate all prediction together by take a list of dataframe and combined em to sigle dataframe\n",
    "    return pd.concat(all_predictions)\n",
    "    "
   ]
  },
  {
   "cell_type": "code",
   "execution_count": 24,
   "id": "a783fe33",
   "metadata": {},
   "outputs": [],
   "source": [
    "# back test by pass backtest(ticker,model,prediction)\n",
    "\n",
    "predictions = backtest(sp500, model, predictors)#pass model that we created earlier and prediction\n",
    "# back test by passing backtest(ticker, model, predictors)"
   ]
  },
  {
   "cell_type": "markdown",
   "id": "1af8170e",
   "metadata": {},
   "source": [
    "## Valuating the  error of our predictions"
   ]
  },
  {
   "cell_type": "code",
   "execution_count": 25,
   "id": "f39527ee",
   "metadata": {},
   "outputs": [
    {
     "data": {
      "text/plain": [
       "0    3502\n",
       "1    2572\n",
       "Name: Predictions, dtype: int64"
      ]
     },
     "execution_count": 25,
     "metadata": {},
     "output_type": "execute_result"
    }
   ],
   "source": [
    "# See how many days we predicted the market would go up or  versus down. 1 = market go up in a days , 0 = market go down in days\n",
    "\n",
    "\n",
    "predictions[\"Predictions\"].value_counts()"
   ]
  },
  {
   "cell_type": "code",
   "execution_count": 26,
   "id": "3b626bc4",
   "metadata": {},
   "outputs": [
    {
     "data": {
      "text/plain": [
       "0.5217729393468118"
      ]
     },
     "execution_count": 26,
     "metadata": {},
     "output_type": "execute_result"
    }
   ],
   "source": [
    "# Look at the precision score error score by Takes the \"Target\" and \"predictions\"\n",
    "\n",
    "precision_score(predictions[\"Target\"],predictions[\"Predictions\"])#precision error score"
   ]
  },
  {
   "cell_type": "code",
   "execution_count": 27,
   "id": "d2df370b",
   "metadata": {},
   "outputs": [
    {
     "data": {
      "text/plain": [
       "1    0.534409\n",
       "0    0.465591\n",
       "Name: Target, dtype: float64"
      ]
     },
     "execution_count": 27,
     "metadata": {},
     "output_type": "execute_result"
    }
   ],
   "source": [
    "# Look at the percentage of days where the market actually went up \n",
    " #by use the target value count / the number of rows total\n",
    "predictions[\"Target\"].value_counts()/predictions.shape[0] "
   ]
  },
  {
   "cell_type": "markdown",
   "id": "450b1a1c",
   "metadata": {},
   "source": [
    "##  Adding additional perdictors to our model"
   ]
  },
  {
   "cell_type": "code",
   "execution_count": 33,
   "id": "a7fee0d3",
   "metadata": {},
   "outputs": [],
   "source": [
    "# Create a variety of rolling average\n",
    "\n",
    "\n",
    "# 1 calculate the mean close price in the last 2,5,60,250 days,\n",
    "#  and than find the ratio in today closing price and the closing price in thoese period.\n",
    "\n",
    "\n",
    "horizons = [2,5,60,250]#this is give algorirhm some more info that will help better prediction\n",
    "# 2 create a list call new predictors which will hold some of new column that we are going tp create\n",
    "new_predictors = []\n",
    "\n",
    "#3 loop through this horizon that we spacifix\n",
    "for horizon in horizons:\n",
    "    # 4 calculate a rolling()  mean\n",
    "    rolling_averages = sp500.rolling(horizon).mean()\n",
    "    \n",
    "    #5.create a couple of columns so one will be ratio column and close ratio horizon \n",
    "    ratio_column = f\"Close_Ratio_{horizon}\"\n",
    "    #6. add closing price sp500 data = today close price / 2days ago close price and 5,60,250\n",
    "    sp500[ratio_column] = sp500[\"Close\"]/rolling_averages[\"Close\"] # today close price / 2days ago close price, and so on from the 2,5\n",
    "    \n",
    "    trend_column = f\"Trend_{horizon}\"#The number of days in the pass x days that we spacifix on horizon that stock price went up\n",
    "    #7. Find the rolling sme of target.*the some of number of days that stock price actually went up\n",
    "    \n",
    "    sp500[trend_column] = sp500.shift(1).rolling(horizon).sum()[\"Target\"]#find sum of passed days in each list in horizon\n",
    "    #8. Add new predictors \n",
    "    new_predictors += [ratio_column, trend_column]\n",
    "    \n",
    "    \n"
   ]
  },
  {
   "cell_type": "markdown",
   "id": "013c3ad8",
   "metadata": {},
   "source": [
    "**pandas cann't find enough days or enogh rows it will return NaN**"
   ]
  },
  {
   "cell_type": "markdown",
   "id": "ab56ee89",
   "metadata": {},
   "source": [
    "# Improving our Model"
   ]
  },
  {
   "cell_type": "code",
   "execution_count": 34,
   "id": "c3b49ad1",
   "metadata": {},
   "outputs": [],
   "source": [
    "#Update model and change parameters\n",
    "model = RandomForestClassifier(n_estimators=200,min_samples_split=50,random_state=42)"
   ]
  },
  {
   "cell_type": "code",
   "execution_count": null,
   "id": "196616f7",
   "metadata": {},
   "outputs": [],
   "source": []
  },
  {
   "cell_type": "code",
   "execution_count": 35,
   "id": "132060d6",
   "metadata": {},
   "outputs": [],
   "source": [
    "#Rewrite predict funtion that we created from the beginning but \n",
    "#we needed to define more on model.preict what is 1 or 0 so add .proba on prediction line\n",
    "\n",
    "\n",
    "\n",
    "def predict(train, test, predictors, model):\n",
    "    model.fit(train[predictors], train[\"Target\"])\n",
    "    #1.So adding preict.proba on so it will return probability that stock price will go down and up tomorow\n",
    "    ## just get only a secound column which is proba the stock price go up\n",
    "    preds = model.predict_proba(test[predictors])[:,1]\n",
    "    #2.Set cutom threshold (it default = 0.5 mean >50 chane the price will go up)BUT we set 60% so model has to be more confident\n",
    "    preds[preds >= .6] = 1 # this will reduce our total number of trading days = reduce number that predict the preic go up\n",
    "    preds[preds <= .6] = 0\n",
    "    preds = pd.Series(preds, index=test.index, name=\"Predictions\")#giving series a name of prediction\n",
    "    combined = pd.concat([test[\"Target\"], preds], axis=1)\n",
    "    return combined\n",
    "    "
   ]
  },
  {
   "cell_type": "code",
   "execution_count": 36,
   "id": "58ab334a",
   "metadata": {},
   "outputs": [],
   "source": [
    "# Run our backtest again\n",
    "\n",
    "predictions = backtest(sp500, model, predictors)"
   ]
  },
  {
   "cell_type": "code",
   "execution_count": 37,
   "id": "de3f428f",
   "metadata": {},
   "outputs": [
    {
     "data": {
      "text/plain": [
       "0.0    5018\n",
       "1.0    1056\n",
       "Name: Predictions, dtype: int64"
      ]
     },
     "execution_count": 37,
     "metadata": {},
     "output_type": "execute_result"
    }
   ],
   "source": [
    "# look at value count of predictions again(so now just 1056 days after asked model to be more confident)\n",
    "predictions[\"Predictions\"].value_counts()"
   ]
  },
  {
   "cell_type": "code",
   "execution_count": 38,
   "id": "68303527",
   "metadata": {},
   "outputs": [
    {
     "data": {
      "text/plain": [
       "0.5208333333333334"
      ]
     },
     "execution_count": 38,
     "metadata": {},
     "output_type": "execute_result"
    }
   ],
   "source": [
    "# see precision score on our \"Target\" and \"Prediction\"\n",
    "\n",
    "precision_score(predictions[\"Target\"], predictions[\"Predictions\"])"
   ]
  },
  {
   "cell_type": "code",
   "execution_count": null,
   "id": "351b08fb",
   "metadata": {},
   "outputs": [],
   "source": []
  },
  {
   "cell_type": "code",
   "execution_count": null,
   "id": "7de7c178",
   "metadata": {},
   "outputs": [],
   "source": []
  },
  {
   "cell_type": "code",
   "execution_count": null,
   "id": "dd24588b",
   "metadata": {},
   "outputs": [],
   "source": []
  },
  {
   "cell_type": "markdown",
   "id": "0f8c8856",
   "metadata": {},
   "source": [
    "# Hyperameter Turning "
   ]
  },
  {
   "cell_type": "code",
   "execution_count": null,
   "id": "fc3ad8cc",
   "metadata": {},
   "outputs": [],
   "source": []
  }
 ],
 "metadata": {
  "kernelspec": {
   "display_name": "Python 3 (ipykernel)",
   "language": "python",
   "name": "python3"
  },
  "language_info": {
   "codemirror_mode": {
    "name": "ipython",
    "version": 3
   },
   "file_extension": ".py",
   "mimetype": "text/x-python",
   "name": "python",
   "nbconvert_exporter": "python",
   "pygments_lexer": "ipython3",
   "version": "3.10.9"
  }
 },
 "nbformat": 4,
 "nbformat_minor": 5
}
