{
 "cells": [
  {
   "cell_type": "markdown",
   "id": "2975a418",
   "metadata": {},
   "source": [
    "##  This project is  going to create model predict if the stock price will go up or down tomorrow"
   ]
  },
  {
   "cell_type": "markdown",
   "id": "59a2101b",
   "metadata": {},
   "source": [
    "## 500SP index Data yahoo finance"
   ]
  },
  {
   "cell_type": "markdown",
   "id": "bfb99d03",
   "metadata": {},
   "source": [
    "### 1. Download packet \"yahoo finance api daily stock and index and price\""
   ]
  },
  {
   "cell_type": "code",
   "execution_count": 1,
   "id": "4ba89c0e",
   "metadata": {},
   "outputs": [
    {
     "name": "stdout",
     "output_type": "stream",
     "text": [
      "Requirement already satisfied: yfinance in /Users/m1.thibsuda/anaconda3/lib/python3.10/site-packages (0.2.33)\r\n",
      "Requirement already satisfied: frozendict>=2.3.4 in /Users/m1.thibsuda/anaconda3/lib/python3.10/site-packages (from yfinance) (2.3.10)\r\n",
      "Requirement already satisfied: numpy>=1.16.5 in /Users/m1.thibsuda/anaconda3/lib/python3.10/site-packages (from yfinance) (1.23.5)\r\n",
      "Requirement already satisfied: html5lib>=1.1 in /Users/m1.thibsuda/anaconda3/lib/python3.10/site-packages (from yfinance) (1.1)\r\n",
      "Requirement already satisfied: pandas>=1.3.0 in /Users/m1.thibsuda/anaconda3/lib/python3.10/site-packages (from yfinance) (1.5.3)\r\n",
      "Requirement already satisfied: lxml>=4.9.1 in /Users/m1.thibsuda/anaconda3/lib/python3.10/site-packages (from yfinance) (4.9.1)\r\n",
      "Requirement already satisfied: multitasking>=0.0.7 in /Users/m1.thibsuda/anaconda3/lib/python3.10/site-packages (from yfinance) (0.0.11)\r\n",
      "Requirement already satisfied: beautifulsoup4>=4.11.1 in /Users/m1.thibsuda/anaconda3/lib/python3.10/site-packages (from yfinance) (4.11.1)\r\n",
      "Requirement already satisfied: appdirs>=1.4.4 in /Users/m1.thibsuda/anaconda3/lib/python3.10/site-packages (from yfinance) (1.4.4)\r\n",
      "Requirement already satisfied: requests>=2.31 in /Users/m1.thibsuda/anaconda3/lib/python3.10/site-packages (from yfinance) (2.31.0)\r\n",
      "Requirement already satisfied: pytz>=2022.5 in /Users/m1.thibsuda/anaconda3/lib/python3.10/site-packages (from yfinance) (2022.7)\r\n",
      "Requirement already satisfied: peewee>=3.16.2 in /Users/m1.thibsuda/anaconda3/lib/python3.10/site-packages (from yfinance) (3.17.0)\r\n",
      "Requirement already satisfied: soupsieve>1.2 in /Users/m1.thibsuda/anaconda3/lib/python3.10/site-packages (from beautifulsoup4>=4.11.1->yfinance) (2.3.2.post1)\r\n",
      "Requirement already satisfied: six>=1.9 in /Users/m1.thibsuda/anaconda3/lib/python3.10/site-packages (from html5lib>=1.1->yfinance) (1.16.0)\r\n",
      "Requirement already satisfied: webencodings in /Users/m1.thibsuda/anaconda3/lib/python3.10/site-packages (from html5lib>=1.1->yfinance) (0.5.1)\r\n",
      "Requirement already satisfied: python-dateutil>=2.8.1 in /Users/m1.thibsuda/anaconda3/lib/python3.10/site-packages (from pandas>=1.3.0->yfinance) (2.8.2)\r\n",
      "Requirement already satisfied: urllib3<3,>=1.21.1 in /Users/m1.thibsuda/anaconda3/lib/python3.10/site-packages (from requests>=2.31->yfinance) (1.26.14)\r\n",
      "Requirement already satisfied: charset-normalizer<4,>=2 in /Users/m1.thibsuda/anaconda3/lib/python3.10/site-packages (from requests>=2.31->yfinance) (2.0.4)\r\n",
      "Requirement already satisfied: idna<4,>=2.5 in /Users/m1.thibsuda/anaconda3/lib/python3.10/site-packages (from requests>=2.31->yfinance) (3.4)\r\n",
      "Requirement already satisfied: certifi>=2017.4.17 in /Users/m1.thibsuda/anaconda3/lib/python3.10/site-packages (from requests>=2.31->yfinance) (2022.12.7)\r\n"
     ]
    }
   ],
   "source": [
    "!pip install yfinance"
   ]
  },
  {
   "cell_type": "code",
   "execution_count": 2,
   "id": "62737393",
   "metadata": {},
   "outputs": [],
   "source": [
    "# Regular EDA (Exploratory data analysis) and plotting libraries\n",
    "import pandas as pd\n",
    "import numpy as np\n",
    "import matplotlib.pyplot as plt\n",
    "import seaborn as sns\n",
    "\n",
    "# we want our plots to appear inside the notebook \n",
    "%matplotlib inline \n",
    "\n",
    "#model from scikit-learn look at map and choses\n",
    "from sklearn.linear_model import LogisticRegression\n",
    "from sklearn.neighbors import KNeighborsClassifier\n",
    "from sklearn.ensemble import RandomForestClassifier\n",
    "\n",
    "from sklearn.preprocessing import OneHotEncoder\n",
    "from sklearn.compose import ColumnTransformer\n",
    "from sklearn.impute import SimpleImputer\n",
    "\n",
    "\n",
    "#model Evaluations\n",
    "from sklearn.model_selection import train_test_split,cross_val_score\n",
    "from sklearn.model_selection import RandomizedSearchCV,GridSearchCV\n",
    "from sklearn.metrics import confusion_matrix,classification_report\n",
    "from sklearn.metrics import precision_score,recall_score,f1_score\n",
    "from sklearn.metrics import RocCurveDisplay\n",
    "from sklearn.metrics import ConfusionMatrixDisplay"
   ]
  },
  {
   "cell_type": "code",
   "execution_count": 3,
   "id": "a9001a84",
   "metadata": {},
   "outputs": [],
   "source": [
    "import yfinance as yf"
   ]
  },
  {
   "cell_type": "markdown",
   "id": "b028da3f",
   "metadata": {},
   "source": [
    "### Initialze ticker class that enable us to download price history for a singlw symbol. In this case I use GSPC which is the S&P 500 index"
   ]
  },
  {
   "cell_type": "code",
   "execution_count": 4,
   "id": "09440303",
   "metadata": {},
   "outputs": [],
   "source": [
    "Tesla = yf.Ticker(\"TSLA\")"
   ]
  },
  {
   "cell_type": "markdown",
   "id": "e211f367",
   "metadata": {},
   "source": [
    "### Query history data  by use .history method ans pass period = max\n",
    "- period max = from the beginning"
   ]
  },
  {
   "cell_type": "code",
   "execution_count": 5,
   "id": "2e7aab7a",
   "metadata": {},
   "outputs": [],
   "source": [
    "Tesla = Tesla.history(period=\"max\") # get all data since the index was created"
   ]
  },
  {
   "cell_type": "code",
   "execution_count": 6,
   "id": "9f1d1c47",
   "metadata": {},
   "outputs": [
    {
     "data": {
      "text/html": [
       "<div>\n",
       "<style scoped>\n",
       "    .dataframe tbody tr th:only-of-type {\n",
       "        vertical-align: middle;\n",
       "    }\n",
       "\n",
       "    .dataframe tbody tr th {\n",
       "        vertical-align: top;\n",
       "    }\n",
       "\n",
       "    .dataframe thead th {\n",
       "        text-align: right;\n",
       "    }\n",
       "</style>\n",
       "<table border=\"1\" class=\"dataframe\">\n",
       "  <thead>\n",
       "    <tr style=\"text-align: right;\">\n",
       "      <th></th>\n",
       "      <th>Open</th>\n",
       "      <th>High</th>\n",
       "      <th>Low</th>\n",
       "      <th>Close</th>\n",
       "      <th>Volume</th>\n",
       "      <th>Dividends</th>\n",
       "      <th>Stock Splits</th>\n",
       "    </tr>\n",
       "    <tr>\n",
       "      <th>Date</th>\n",
       "      <th></th>\n",
       "      <th></th>\n",
       "      <th></th>\n",
       "      <th></th>\n",
       "      <th></th>\n",
       "      <th></th>\n",
       "      <th></th>\n",
       "    </tr>\n",
       "  </thead>\n",
       "  <tbody>\n",
       "    <tr>\n",
       "      <th>2010-06-29 00:00:00-04:00</th>\n",
       "      <td>1.266667</td>\n",
       "      <td>1.666667</td>\n",
       "      <td>1.169333</td>\n",
       "      <td>1.592667</td>\n",
       "      <td>281494500</td>\n",
       "      <td>0.0</td>\n",
       "      <td>0.0</td>\n",
       "    </tr>\n",
       "    <tr>\n",
       "      <th>2010-06-30 00:00:00-04:00</th>\n",
       "      <td>1.719333</td>\n",
       "      <td>2.028000</td>\n",
       "      <td>1.553333</td>\n",
       "      <td>1.588667</td>\n",
       "      <td>257806500</td>\n",
       "      <td>0.0</td>\n",
       "      <td>0.0</td>\n",
       "    </tr>\n",
       "    <tr>\n",
       "      <th>2010-07-01 00:00:00-04:00</th>\n",
       "      <td>1.666667</td>\n",
       "      <td>1.728000</td>\n",
       "      <td>1.351333</td>\n",
       "      <td>1.464000</td>\n",
       "      <td>123282000</td>\n",
       "      <td>0.0</td>\n",
       "      <td>0.0</td>\n",
       "    </tr>\n",
       "    <tr>\n",
       "      <th>2010-07-02 00:00:00-04:00</th>\n",
       "      <td>1.533333</td>\n",
       "      <td>1.540000</td>\n",
       "      <td>1.247333</td>\n",
       "      <td>1.280000</td>\n",
       "      <td>77097000</td>\n",
       "      <td>0.0</td>\n",
       "      <td>0.0</td>\n",
       "    </tr>\n",
       "    <tr>\n",
       "      <th>2010-07-06 00:00:00-04:00</th>\n",
       "      <td>1.333333</td>\n",
       "      <td>1.333333</td>\n",
       "      <td>1.055333</td>\n",
       "      <td>1.074000</td>\n",
       "      <td>103003500</td>\n",
       "      <td>0.0</td>\n",
       "      <td>0.0</td>\n",
       "    </tr>\n",
       "    <tr>\n",
       "      <th>...</th>\n",
       "      <td>...</td>\n",
       "      <td>...</td>\n",
       "      <td>...</td>\n",
       "      <td>...</td>\n",
       "      <td>...</td>\n",
       "      <td>...</td>\n",
       "      <td>...</td>\n",
       "    </tr>\n",
       "    <tr>\n",
       "      <th>2024-01-08 00:00:00-05:00</th>\n",
       "      <td>236.139999</td>\n",
       "      <td>241.250000</td>\n",
       "      <td>235.300003</td>\n",
       "      <td>240.449997</td>\n",
       "      <td>85166600</td>\n",
       "      <td>0.0</td>\n",
       "      <td>0.0</td>\n",
       "    </tr>\n",
       "    <tr>\n",
       "      <th>2024-01-09 00:00:00-05:00</th>\n",
       "      <td>238.110001</td>\n",
       "      <td>238.960007</td>\n",
       "      <td>232.039993</td>\n",
       "      <td>234.960007</td>\n",
       "      <td>96705700</td>\n",
       "      <td>0.0</td>\n",
       "      <td>0.0</td>\n",
       "    </tr>\n",
       "    <tr>\n",
       "      <th>2024-01-10 00:00:00-05:00</th>\n",
       "      <td>235.100006</td>\n",
       "      <td>235.500000</td>\n",
       "      <td>231.289993</td>\n",
       "      <td>233.940002</td>\n",
       "      <td>91628500</td>\n",
       "      <td>0.0</td>\n",
       "      <td>0.0</td>\n",
       "    </tr>\n",
       "    <tr>\n",
       "      <th>2024-01-11 00:00:00-05:00</th>\n",
       "      <td>230.570007</td>\n",
       "      <td>230.929993</td>\n",
       "      <td>225.369995</td>\n",
       "      <td>227.220001</td>\n",
       "      <td>105873600</td>\n",
       "      <td>0.0</td>\n",
       "      <td>0.0</td>\n",
       "    </tr>\n",
       "    <tr>\n",
       "      <th>2024-01-12 00:00:00-05:00</th>\n",
       "      <td>220.080002</td>\n",
       "      <td>225.339996</td>\n",
       "      <td>217.149994</td>\n",
       "      <td>218.889999</td>\n",
       "      <td>122889000</td>\n",
       "      <td>0.0</td>\n",
       "      <td>0.0</td>\n",
       "    </tr>\n",
       "  </tbody>\n",
       "</table>\n",
       "<p>3409 rows × 7 columns</p>\n",
       "</div>"
      ],
      "text/plain": [
       "                                 Open        High         Low       Close  \\\n",
       "Date                                                                        \n",
       "2010-06-29 00:00:00-04:00    1.266667    1.666667    1.169333    1.592667   \n",
       "2010-06-30 00:00:00-04:00    1.719333    2.028000    1.553333    1.588667   \n",
       "2010-07-01 00:00:00-04:00    1.666667    1.728000    1.351333    1.464000   \n",
       "2010-07-02 00:00:00-04:00    1.533333    1.540000    1.247333    1.280000   \n",
       "2010-07-06 00:00:00-04:00    1.333333    1.333333    1.055333    1.074000   \n",
       "...                               ...         ...         ...         ...   \n",
       "2024-01-08 00:00:00-05:00  236.139999  241.250000  235.300003  240.449997   \n",
       "2024-01-09 00:00:00-05:00  238.110001  238.960007  232.039993  234.960007   \n",
       "2024-01-10 00:00:00-05:00  235.100006  235.500000  231.289993  233.940002   \n",
       "2024-01-11 00:00:00-05:00  230.570007  230.929993  225.369995  227.220001   \n",
       "2024-01-12 00:00:00-05:00  220.080002  225.339996  217.149994  218.889999   \n",
       "\n",
       "                              Volume  Dividends  Stock Splits  \n",
       "Date                                                           \n",
       "2010-06-29 00:00:00-04:00  281494500        0.0           0.0  \n",
       "2010-06-30 00:00:00-04:00  257806500        0.0           0.0  \n",
       "2010-07-01 00:00:00-04:00  123282000        0.0           0.0  \n",
       "2010-07-02 00:00:00-04:00   77097000        0.0           0.0  \n",
       "2010-07-06 00:00:00-04:00  103003500        0.0           0.0  \n",
       "...                              ...        ...           ...  \n",
       "2024-01-08 00:00:00-05:00   85166600        0.0           0.0  \n",
       "2024-01-09 00:00:00-05:00   96705700        0.0           0.0  \n",
       "2024-01-10 00:00:00-05:00   91628500        0.0           0.0  \n",
       "2024-01-11 00:00:00-05:00  105873600        0.0           0.0  \n",
       "2024-01-12 00:00:00-05:00  122889000        0.0           0.0  \n",
       "\n",
       "[3409 rows x 7 columns]"
      ]
     },
     "execution_count": 6,
     "metadata": {},
     "output_type": "execute_result"
    }
   ],
   "source": [
    "Tesla"
   ]
  },
  {
   "cell_type": "markdown",
   "id": "e4a2ca9b",
   "metadata": {},
   "source": [
    "* From the data Im going to predict if the stock price will go up or down tomorrow. \n",
    "\n",
    "*P.S. Im not using dividends and splits data*"
   ]
  },
  {
   "cell_type": "code",
   "execution_count": 7,
   "id": "3ef6ce92",
   "metadata": {},
   "outputs": [
    {
     "name": "stdout",
     "output_type": "stream",
     "text": [
      "<class 'pandas.core.frame.DataFrame'>\n",
      "DatetimeIndex: 3409 entries, 2010-06-29 00:00:00-04:00 to 2024-01-12 00:00:00-05:00\n",
      "Data columns (total 7 columns):\n",
      " #   Column        Non-Null Count  Dtype  \n",
      "---  ------        --------------  -----  \n",
      " 0   Open          3409 non-null   float64\n",
      " 1   High          3409 non-null   float64\n",
      " 2   Low           3409 non-null   float64\n",
      " 3   Close         3409 non-null   float64\n",
      " 4   Volume        3409 non-null   int64  \n",
      " 5   Dividends     3409 non-null   float64\n",
      " 6   Stock Splits  3409 non-null   float64\n",
      "dtypes: float64(6), int64(1)\n",
      "memory usage: 213.1 KB\n"
     ]
    }
   ],
   "source": [
    "Tesla.info()"
   ]
  },
  {
   "cell_type": "code",
   "execution_count": 8,
   "id": "6ed96503",
   "metadata": {},
   "outputs": [
    {
     "data": {
      "text/plain": [
       "DatetimeIndex(['2010-06-29 00:00:00-04:00', '2010-06-30 00:00:00-04:00',\n",
       "               '2010-07-01 00:00:00-04:00', '2010-07-02 00:00:00-04:00',\n",
       "               '2010-07-06 00:00:00-04:00', '2010-07-07 00:00:00-04:00',\n",
       "               '2010-07-08 00:00:00-04:00', '2010-07-09 00:00:00-04:00',\n",
       "               '2010-07-12 00:00:00-04:00', '2010-07-13 00:00:00-04:00',\n",
       "               ...\n",
       "               '2023-12-29 00:00:00-05:00', '2024-01-02 00:00:00-05:00',\n",
       "               '2024-01-03 00:00:00-05:00', '2024-01-04 00:00:00-05:00',\n",
       "               '2024-01-05 00:00:00-05:00', '2024-01-08 00:00:00-05:00',\n",
       "               '2024-01-09 00:00:00-05:00', '2024-01-10 00:00:00-05:00',\n",
       "               '2024-01-11 00:00:00-05:00', '2024-01-12 00:00:00-05:00'],\n",
       "              dtype='datetime64[ns, America/New_York]', name='Date', length=3409, freq=None)"
      ]
     },
     "execution_count": 8,
     "metadata": {},
     "output_type": "execute_result"
    }
   ],
   "source": [
    "# check on index of the sp500 dataframe\n",
    "\n",
    "Tesla.index"
   ]
  },
  {
   "cell_type": "markdown",
   "id": "d41e1839",
   "metadata": {},
   "source": [
    "## 2. Clening and Visualizing our stock market data"
   ]
  },
  {
   "cell_type": "code",
   "execution_count": 9,
   "id": "7d8cad8f",
   "metadata": {},
   "outputs": [
    {
     "data": {
      "text/plain": [
       "<Axes: xlabel='Date'>"
      ]
     },
     "execution_count": 9,
     "metadata": {},
     "output_type": "execute_result"
    },
    {
     "data": {
      "image/png": "[encoded data removed]",
      "text/plain": [
       "<Figure size 640x480 with 1 Axes>"
      ]
     },
     "metadata": {},
     "output_type": "display_data"
    }
   ],
   "source": [
    "#plot data in the data frame. I will plot the closing price against the index.\n",
    "\n",
    "Tesla.plot.line(y=\"Close\", use_index=True)#show index whuxh is trading days (dates on x-axis)"
   ]
  },
  {
   "cell_type": "code",
   "execution_count": 10,
   "id": "513bcb02",
   "metadata": {},
   "outputs": [],
   "source": [
    "del Tesla[\"Dividends\"]\n",
    "del Tesla[\"Stock Splits\"]"
   ]
  },
  {
   "cell_type": "code",
   "execution_count": 11,
   "id": "60beeee1",
   "metadata": {},
   "outputs": [],
   "source": [
    "# Remove data before 2021 by .loc[start:end] medtod. Only take rows where the index is at least 2021\n",
    "\n",
    "Tesla = Tesla.loc[\"2021-01-01\":].copy()\n"
   ]
  },
  {
   "cell_type": "markdown",
   "id": "e35a6e43",
   "metadata": {},
   "source": [
    "## 3. Setting up Target for machine learning\n",
    "\n",
    "*Key*\n",
    "\n",
    "Taccurate on the directionality id the price will go up or down**\n",
    "\n",
    "\n",
    "\n",
    "### So our target  \"on the days that stock goes up can we actually predict that it will go up\n",
    "\n",
    " "
   ]
  },
  {
   "cell_type": "code",
   "execution_count": 12,
   "id": "35cdffdb",
   "metadata": {},
   "outputs": [],
   "source": [
    "# Target will be \"the stock will go up or down\"\n",
    "\n",
    "#1 create column call tomorrow  = it going to be tommorrow price.and use pandas .shift method to help\n",
    "\n",
    "Tesla[\"Tomorrow\"] = Tesla[\"Close\"].shift(-1)# .shift all the price -1 = 1 days\n"
   ]
  },
  {
   "cell_type": "code",
   "execution_count": 13,
   "id": "cc84085c",
   "metadata": {},
   "outputs": [
    {
     "data": {
      "text/html": [
       "<div>\n",
       "<style scoped>\n",
       "    .dataframe tbody tr th:only-of-type {\n",
       "        vertical-align: middle;\n",
       "    }\n",
       "\n",
       "    .dataframe tbody tr th {\n",
       "        vertical-align: top;\n",
       "    }\n",
       "\n",
       "    .dataframe thead th {\n",
       "        text-align: right;\n",
       "    }\n",
       "</style>\n",
       "<table border=\"1\" class=\"dataframe\">\n",
       "  <thead>\n",
       "    <tr style=\"text-align: right;\">\n",
       "      <th></th>\n",
       "      <th>Open</th>\n",
       "      <th>High</th>\n",
       "      <th>Low</th>\n",
       "      <th>Close</th>\n",
       "      <th>Volume</th>\n",
       "      <th>Tomorrow</th>\n",
       "    </tr>\n",
       "    <tr>\n",
       "      <th>Date</th>\n",
       "      <th></th>\n",
       "      <th></th>\n",
       "      <th></th>\n",
       "      <th></th>\n",
       "      <th></th>\n",
       "      <th></th>\n",
       "    </tr>\n",
       "  </thead>\n",
       "  <tbody>\n",
       "    <tr>\n",
       "      <th>2021-01-04 00:00:00-05:00</th>\n",
       "      <td>239.820007</td>\n",
       "      <td>248.163330</td>\n",
       "      <td>239.063339</td>\n",
       "      <td>243.256668</td>\n",
       "      <td>145914600</td>\n",
       "      <td>245.036667</td>\n",
       "    </tr>\n",
       "    <tr>\n",
       "      <th>2021-01-05 00:00:00-05:00</th>\n",
       "      <td>241.220001</td>\n",
       "      <td>246.946671</td>\n",
       "      <td>239.733337</td>\n",
       "      <td>245.036667</td>\n",
       "      <td>96735600</td>\n",
       "      <td>251.993332</td>\n",
       "    </tr>\n",
       "    <tr>\n",
       "      <th>2021-01-06 00:00:00-05:00</th>\n",
       "      <td>252.830002</td>\n",
       "      <td>258.000000</td>\n",
       "      <td>249.699997</td>\n",
       "      <td>251.993332</td>\n",
       "      <td>134100000</td>\n",
       "      <td>272.013336</td>\n",
       "    </tr>\n",
       "    <tr>\n",
       "      <th>2021-01-07 00:00:00-05:00</th>\n",
       "      <td>259.209991</td>\n",
       "      <td>272.329987</td>\n",
       "      <td>258.399994</td>\n",
       "      <td>272.013336</td>\n",
       "      <td>154496700</td>\n",
       "      <td>293.339996</td>\n",
       "    </tr>\n",
       "    <tr>\n",
       "      <th>2021-01-08 00:00:00-05:00</th>\n",
       "      <td>285.333344</td>\n",
       "      <td>294.829987</td>\n",
       "      <td>279.463318</td>\n",
       "      <td>293.339996</td>\n",
       "      <td>225166500</td>\n",
       "      <td>270.396667</td>\n",
       "    </tr>\n",
       "    <tr>\n",
       "      <th>...</th>\n",
       "      <td>...</td>\n",
       "      <td>...</td>\n",
       "      <td>...</td>\n",
       "      <td>...</td>\n",
       "      <td>...</td>\n",
       "      <td>...</td>\n",
       "    </tr>\n",
       "    <tr>\n",
       "      <th>2024-01-08 00:00:00-05:00</th>\n",
       "      <td>236.139999</td>\n",
       "      <td>241.250000</td>\n",
       "      <td>235.300003</td>\n",
       "      <td>240.449997</td>\n",
       "      <td>85166600</td>\n",
       "      <td>234.960007</td>\n",
       "    </tr>\n",
       "    <tr>\n",
       "      <th>2024-01-09 00:00:00-05:00</th>\n",
       "      <td>238.110001</td>\n",
       "      <td>238.960007</td>\n",
       "      <td>232.039993</td>\n",
       "      <td>234.960007</td>\n",
       "      <td>96705700</td>\n",
       "      <td>233.940002</td>\n",
       "    </tr>\n",
       "    <tr>\n",
       "      <th>2024-01-10 00:00:00-05:00</th>\n",
       "      <td>235.100006</td>\n",
       "      <td>235.500000</td>\n",
       "      <td>231.289993</td>\n",
       "      <td>233.940002</td>\n",
       "      <td>91628500</td>\n",
       "      <td>227.220001</td>\n",
       "    </tr>\n",
       "    <tr>\n",
       "      <th>2024-01-11 00:00:00-05:00</th>\n",
       "      <td>230.570007</td>\n",
       "      <td>230.929993</td>\n",
       "      <td>225.369995</td>\n",
       "      <td>227.220001</td>\n",
       "      <td>105873600</td>\n",
       "      <td>218.889999</td>\n",
       "    </tr>\n",
       "    <tr>\n",
       "      <th>2024-01-12 00:00:00-05:00</th>\n",
       "      <td>220.080002</td>\n",
       "      <td>225.339996</td>\n",
       "      <td>217.149994</td>\n",
       "      <td>218.889999</td>\n",
       "      <td>122889000</td>\n",
       "      <td>NaN</td>\n",
       "    </tr>\n",
       "  </tbody>\n",
       "</table>\n",
       "<p>762 rows × 6 columns</p>\n",
       "</div>"
      ],
      "text/plain": [
       "                                 Open        High         Low       Close  \\\n",
       "Date                                                                        \n",
       "2021-01-04 00:00:00-05:00  239.820007  248.163330  239.063339  243.256668   \n",
       "2021-01-05 00:00:00-05:00  241.220001  246.946671  239.733337  245.036667   \n",
       "2021-01-06 00:00:00-05:00  252.830002  258.000000  249.699997  251.993332   \n",
       "2021-01-07 00:00:00-05:00  259.209991  272.329987  258.399994  272.013336   \n",
       "2021-01-08 00:00:00-05:00  285.333344  294.829987  279.463318  293.339996   \n",
       "...                               ...         ...         ...         ...   \n",
       "2024-01-08 00:00:00-05:00  236.139999  241.250000  235.300003  240.449997   \n",
       "2024-01-09 00:00:00-05:00  238.110001  238.960007  232.039993  234.960007   \n",
       "2024-01-10 00:00:00-05:00  235.100006  235.500000  231.289993  233.940002   \n",
       "2024-01-11 00:00:00-05:00  230.570007  230.929993  225.369995  227.220001   \n",
       "2024-01-12 00:00:00-05:00  220.080002  225.339996  217.149994  218.889999   \n",
       "\n",
       "                              Volume    Tomorrow  \n",
       "Date                                              \n",
       "2021-01-04 00:00:00-05:00  145914600  245.036667  \n",
       "2021-01-05 00:00:00-05:00   96735600  251.993332  \n",
       "2021-01-06 00:00:00-05:00  134100000  272.013336  \n",
       "2021-01-07 00:00:00-05:00  154496700  293.339996  \n",
       "2021-01-08 00:00:00-05:00  225166500  270.396667  \n",
       "...                              ...         ...  \n",
       "2024-01-08 00:00:00-05:00   85166600  234.960007  \n",
       "2024-01-09 00:00:00-05:00   96705700  233.940002  \n",
       "2024-01-10 00:00:00-05:00   91628500  227.220001  \n",
       "2024-01-11 00:00:00-05:00  105873600  218.889999  \n",
       "2024-01-12 00:00:00-05:00  122889000         NaN  \n",
       "\n",
       "[762 rows x 6 columns]"
      ]
     },
     "execution_count": 13,
     "metadata": {},
     "output_type": "execute_result"
    }
   ],
   "source": [
    "Tesla"
   ]
  },
  {
   "cell_type": "markdown",
   "id": "20b06ded",
   "metadata": {},
   "source": [
    "### Set up our Machine Learning target\n",
    "\n",
    "base on\n",
    "\n",
    "* Base on tomorrow price we can set the target now.  target = tmr's price greater than today's price\n",
    "* Covert it to interger (numerical) so we can use it in machine learning\n",
    "* New Target should be 1 = price will go up , 0 = price will go down"
   ]
  },
  {
   "cell_type": "code",
   "execution_count": 14,
   "id": "692b83fd",
   "metadata": {},
   "outputs": [],
   "source": [
    "# target = tmor's price greater than today's price\n",
    "# if tomorrow price > today price. \n",
    "Tesla[\"Target\"] = (Tesla[\"Tomorrow\"] > Tesla[\"Close\"]).astype(int)# today price mean close column"
   ]
  },
  {
   "cell_type": "code",
   "execution_count": 15,
   "id": "82357f0e",
   "metadata": {},
   "outputs": [
    {
     "data": {
      "text/html": [
       "<div>\n",
       "<style scoped>\n",
       "    .dataframe tbody tr th:only-of-type {\n",
       "        vertical-align: middle;\n",
       "    }\n",
       "\n",
       "    .dataframe tbody tr th {\n",
       "        vertical-align: top;\n",
       "    }\n",
       "\n",
       "    .dataframe thead th {\n",
       "        text-align: right;\n",
       "    }\n",
       "</style>\n",
       "<table border=\"1\" class=\"dataframe\">\n",
       "  <thead>\n",
       "    <tr style=\"text-align: right;\">\n",
       "      <th></th>\n",
       "      <th>Open</th>\n",
       "      <th>High</th>\n",
       "      <th>Low</th>\n",
       "      <th>Close</th>\n",
       "      <th>Volume</th>\n",
       "      <th>Tomorrow</th>\n",
       "      <th>Target</th>\n",
       "    </tr>\n",
       "    <tr>\n",
       "      <th>Date</th>\n",
       "      <th></th>\n",
       "      <th></th>\n",
       "      <th></th>\n",
       "      <th></th>\n",
       "      <th></th>\n",
       "      <th></th>\n",
       "      <th></th>\n",
       "    </tr>\n",
       "  </thead>\n",
       "  <tbody>\n",
       "    <tr>\n",
       "      <th>2021-01-04 00:00:00-05:00</th>\n",
       "      <td>239.820007</td>\n",
       "      <td>248.163330</td>\n",
       "      <td>239.063339</td>\n",
       "      <td>243.256668</td>\n",
       "      <td>145914600</td>\n",
       "      <td>245.036667</td>\n",
       "      <td>1</td>\n",
       "    </tr>\n",
       "    <tr>\n",
       "      <th>2021-01-05 00:00:00-05:00</th>\n",
       "      <td>241.220001</td>\n",
       "      <td>246.946671</td>\n",
       "      <td>239.733337</td>\n",
       "      <td>245.036667</td>\n",
       "      <td>96735600</td>\n",
       "      <td>251.993332</td>\n",
       "      <td>1</td>\n",
       "    </tr>\n",
       "    <tr>\n",
       "      <th>2021-01-06 00:00:00-05:00</th>\n",
       "      <td>252.830002</td>\n",
       "      <td>258.000000</td>\n",
       "      <td>249.699997</td>\n",
       "      <td>251.993332</td>\n",
       "      <td>134100000</td>\n",
       "      <td>272.013336</td>\n",
       "      <td>1</td>\n",
       "    </tr>\n",
       "    <tr>\n",
       "      <th>2021-01-07 00:00:00-05:00</th>\n",
       "      <td>259.209991</td>\n",
       "      <td>272.329987</td>\n",
       "      <td>258.399994</td>\n",
       "      <td>272.013336</td>\n",
       "      <td>154496700</td>\n",
       "      <td>293.339996</td>\n",
       "      <td>1</td>\n",
       "    </tr>\n",
       "    <tr>\n",
       "      <th>2021-01-08 00:00:00-05:00</th>\n",
       "      <td>285.333344</td>\n",
       "      <td>294.829987</td>\n",
       "      <td>279.463318</td>\n",
       "      <td>293.339996</td>\n",
       "      <td>225166500</td>\n",
       "      <td>270.396667</td>\n",
       "      <td>0</td>\n",
       "    </tr>\n",
       "    <tr>\n",
       "      <th>...</th>\n",
       "      <td>...</td>\n",
       "      <td>...</td>\n",
       "      <td>...</td>\n",
       "      <td>...</td>\n",
       "      <td>...</td>\n",
       "      <td>...</td>\n",
       "      <td>...</td>\n",
       "    </tr>\n",
       "    <tr>\n",
       "      <th>2024-01-08 00:00:00-05:00</th>\n",
       "      <td>236.139999</td>\n",
       "      <td>241.250000</td>\n",
       "      <td>235.300003</td>\n",
       "      <td>240.449997</td>\n",
       "      <td>85166600</td>\n",
       "      <td>234.960007</td>\n",
       "      <td>0</td>\n",
       "    </tr>\n",
       "    <tr>\n",
       "      <th>2024-01-09 00:00:00-05:00</th>\n",
       "      <td>238.110001</td>\n",
       "      <td>238.960007</td>\n",
       "      <td>232.039993</td>\n",
       "      <td>234.960007</td>\n",
       "      <td>96705700</td>\n",
       "      <td>233.940002</td>\n",
       "      <td>0</td>\n",
       "    </tr>\n",
       "    <tr>\n",
       "      <th>2024-01-10 00:00:00-05:00</th>\n",
       "      <td>235.100006</td>\n",
       "      <td>235.500000</td>\n",
       "      <td>231.289993</td>\n",
       "      <td>233.940002</td>\n",
       "      <td>91628500</td>\n",
       "      <td>227.220001</td>\n",
       "      <td>0</td>\n",
       "    </tr>\n",
       "    <tr>\n",
       "      <th>2024-01-11 00:00:00-05:00</th>\n",
       "      <td>230.570007</td>\n",
       "      <td>230.929993</td>\n",
       "      <td>225.369995</td>\n",
       "      <td>227.220001</td>\n",
       "      <td>105873600</td>\n",
       "      <td>218.889999</td>\n",
       "      <td>0</td>\n",
       "    </tr>\n",
       "    <tr>\n",
       "      <th>2024-01-12 00:00:00-05:00</th>\n",
       "      <td>220.080002</td>\n",
       "      <td>225.339996</td>\n",
       "      <td>217.149994</td>\n",
       "      <td>218.889999</td>\n",
       "      <td>122889000</td>\n",
       "      <td>NaN</td>\n",
       "      <td>0</td>\n",
       "    </tr>\n",
       "  </tbody>\n",
       "</table>\n",
       "<p>762 rows × 7 columns</p>\n",
       "</div>"
      ],
      "text/plain": [
       "                                 Open        High         Low       Close  \\\n",
       "Date                                                                        \n",
       "2021-01-04 00:00:00-05:00  239.820007  248.163330  239.063339  243.256668   \n",
       "2021-01-05 00:00:00-05:00  241.220001  246.946671  239.733337  245.036667   \n",
       "2021-01-06 00:00:00-05:00  252.830002  258.000000  249.699997  251.993332   \n",
       "2021-01-07 00:00:00-05:00  259.209991  272.329987  258.399994  272.013336   \n",
       "2021-01-08 00:00:00-05:00  285.333344  294.829987  279.463318  293.339996   \n",
       "...                               ...         ...         ...         ...   \n",
       "2024-01-08 00:00:00-05:00  236.139999  241.250000  235.300003  240.449997   \n",
       "2024-01-09 00:00:00-05:00  238.110001  238.960007  232.039993  234.960007   \n",
       "2024-01-10 00:00:00-05:00  235.100006  235.500000  231.289993  233.940002   \n",
       "2024-01-11 00:00:00-05:00  230.570007  230.929993  225.369995  227.220001   \n",
       "2024-01-12 00:00:00-05:00  220.080002  225.339996  217.149994  218.889999   \n",
       "\n",
       "                              Volume    Tomorrow  Target  \n",
       "Date                                                      \n",
       "2021-01-04 00:00:00-05:00  145914600  245.036667       1  \n",
       "2021-01-05 00:00:00-05:00   96735600  251.993332       1  \n",
       "2021-01-06 00:00:00-05:00  134100000  272.013336       1  \n",
       "2021-01-07 00:00:00-05:00  154496700  293.339996       1  \n",
       "2021-01-08 00:00:00-05:00  225166500  270.396667       0  \n",
       "...                              ...         ...     ...  \n",
       "2024-01-08 00:00:00-05:00   85166600  234.960007       0  \n",
       "2024-01-09 00:00:00-05:00   96705700  233.940002       0  \n",
       "2024-01-10 00:00:00-05:00   91628500  227.220001       0  \n",
       "2024-01-11 00:00:00-05:00  105873600  218.889999       0  \n",
       "2024-01-12 00:00:00-05:00  122889000         NaN       0  \n",
       "\n",
       "[762 rows x 7 columns]"
      ]
     },
     "execution_count": 15,
     "metadata": {},
     "output_type": "execute_result"
    }
   ],
   "source": [
    "Tesla"
   ]
  },
  {
   "cell_type": "markdown",
   "id": "4f5c4a89",
   "metadata": {},
   "source": [
    "### Key\n",
    "\n",
    "* There a lot of histoical  data in this data frame and usually a lot of data is great byt for stock marketif we go back to far the market could have shifted fundamentally and some of old data may not be useful in making future predictions * "
   ]
  },
  {
   "cell_type": "markdown",
   "id": "edc5481f",
   "metadata": {},
   "source": [
    "#### Remove data before 2021 by .loc[start:end] medtod. Only take rows where the index is at least 2021. \n",
    "\n",
    "Tesla = Tesla.loc[\"2021-01-01\":].copy()\n"
   ]
  },
  {
   "cell_type": "code",
   "execution_count": 16,
   "id": "5692c53e",
   "metadata": {},
   "outputs": [
    {
     "data": {
      "text/plain": [
       "Open        0\n",
       "High        0\n",
       "Low         0\n",
       "Close       0\n",
       "Volume      0\n",
       "Tomorrow    1\n",
       "Target      0\n",
       "dtype: int64"
      ]
     },
     "execution_count": 16,
     "metadata": {},
     "output_type": "execute_result"
    }
   ],
   "source": [
    "Tesla.isna().sum()"
   ]
  },
  {
   "cell_type": "code",
   "execution_count": 17,
   "id": "13aefe16",
   "metadata": {},
   "outputs": [],
   "source": [
    "# Replace NaN values with the mean of each column\n",
    "Tesla = Tesla.fillna(Tesla.mean())\n",
    "\n"
   ]
  },
  {
   "cell_type": "code",
   "execution_count": 18,
   "id": "7764762a",
   "metadata": {},
   "outputs": [
    {
     "data": {
      "text/html": [
       "<div>\n",
       "<style scoped>\n",
       "    .dataframe tbody tr th:only-of-type {\n",
       "        vertical-align: middle;\n",
       "    }\n",
       "\n",
       "    .dataframe tbody tr th {\n",
       "        vertical-align: top;\n",
       "    }\n",
       "\n",
       "    .dataframe thead th {\n",
       "        text-align: right;\n",
       "    }\n",
       "</style>\n",
       "<table border=\"1\" class=\"dataframe\">\n",
       "  <thead>\n",
       "    <tr style=\"text-align: right;\">\n",
       "      <th></th>\n",
       "      <th>Open</th>\n",
       "      <th>High</th>\n",
       "      <th>Low</th>\n",
       "      <th>Close</th>\n",
       "      <th>Volume</th>\n",
       "      <th>Tomorrow</th>\n",
       "      <th>Target</th>\n",
       "    </tr>\n",
       "    <tr>\n",
       "      <th>Date</th>\n",
       "      <th></th>\n",
       "      <th></th>\n",
       "      <th></th>\n",
       "      <th></th>\n",
       "      <th></th>\n",
       "      <th></th>\n",
       "      <th></th>\n",
       "    </tr>\n",
       "  </thead>\n",
       "  <tbody>\n",
       "    <tr>\n",
       "      <th>2021-01-04 00:00:00-05:00</th>\n",
       "      <td>239.820007</td>\n",
       "      <td>248.163330</td>\n",
       "      <td>239.063339</td>\n",
       "      <td>243.256668</td>\n",
       "      <td>145914600</td>\n",
       "      <td>245.036667</td>\n",
       "      <td>1</td>\n",
       "    </tr>\n",
       "    <tr>\n",
       "      <th>2021-01-05 00:00:00-05:00</th>\n",
       "      <td>241.220001</td>\n",
       "      <td>246.946671</td>\n",
       "      <td>239.733337</td>\n",
       "      <td>245.036667</td>\n",
       "      <td>96735600</td>\n",
       "      <td>251.993332</td>\n",
       "      <td>1</td>\n",
       "    </tr>\n",
       "    <tr>\n",
       "      <th>2021-01-06 00:00:00-05:00</th>\n",
       "      <td>252.830002</td>\n",
       "      <td>258.000000</td>\n",
       "      <td>249.699997</td>\n",
       "      <td>251.993332</td>\n",
       "      <td>134100000</td>\n",
       "      <td>272.013336</td>\n",
       "      <td>1</td>\n",
       "    </tr>\n",
       "    <tr>\n",
       "      <th>2021-01-07 00:00:00-05:00</th>\n",
       "      <td>259.209991</td>\n",
       "      <td>272.329987</td>\n",
       "      <td>258.399994</td>\n",
       "      <td>272.013336</td>\n",
       "      <td>154496700</td>\n",
       "      <td>293.339996</td>\n",
       "      <td>1</td>\n",
       "    </tr>\n",
       "    <tr>\n",
       "      <th>2021-01-08 00:00:00-05:00</th>\n",
       "      <td>285.333344</td>\n",
       "      <td>294.829987</td>\n",
       "      <td>279.463318</td>\n",
       "      <td>293.339996</td>\n",
       "      <td>225166500</td>\n",
       "      <td>270.396667</td>\n",
       "      <td>0</td>\n",
       "    </tr>\n",
       "    <tr>\n",
       "      <th>2021-01-11 00:00:00-05:00</th>\n",
       "      <td>283.133331</td>\n",
       "      <td>284.809998</td>\n",
       "      <td>267.873322</td>\n",
       "      <td>270.396667</td>\n",
       "      <td>177904800</td>\n",
       "      <td>283.146667</td>\n",
       "      <td>1</td>\n",
       "    </tr>\n",
       "    <tr>\n",
       "      <th>2021-01-12 00:00:00-05:00</th>\n",
       "      <td>277.000000</td>\n",
       "      <td>289.333344</td>\n",
       "      <td>275.779999</td>\n",
       "      <td>283.146667</td>\n",
       "      <td>138812100</td>\n",
       "      <td>284.803345</td>\n",
       "      <td>1</td>\n",
       "    </tr>\n",
       "    <tr>\n",
       "      <th>2021-01-13 00:00:00-05:00</th>\n",
       "      <td>284.253326</td>\n",
       "      <td>286.823334</td>\n",
       "      <td>277.333344</td>\n",
       "      <td>284.803345</td>\n",
       "      <td>99937500</td>\n",
       "      <td>281.666656</td>\n",
       "      <td>0</td>\n",
       "    </tr>\n",
       "    <tr>\n",
       "      <th>2021-01-14 00:00:00-05:00</th>\n",
       "      <td>281.130005</td>\n",
       "      <td>287.666656</td>\n",
       "      <td>279.583344</td>\n",
       "      <td>281.666656</td>\n",
       "      <td>93798900</td>\n",
       "      <td>275.386658</td>\n",
       "      <td>0</td>\n",
       "    </tr>\n",
       "    <tr>\n",
       "      <th>2021-01-15 00:00:00-05:00</th>\n",
       "      <td>284.000000</td>\n",
       "      <td>286.633331</td>\n",
       "      <td>273.033325</td>\n",
       "      <td>275.386658</td>\n",
       "      <td>116332800</td>\n",
       "      <td>281.516663</td>\n",
       "      <td>1</td>\n",
       "    </tr>\n",
       "    <tr>\n",
       "      <th>2021-01-19 00:00:00-05:00</th>\n",
       "      <td>279.266663</td>\n",
       "      <td>283.333344</td>\n",
       "      <td>277.666656</td>\n",
       "      <td>281.516663</td>\n",
       "      <td>76101000</td>\n",
       "      <td>283.483337</td>\n",
       "      <td>1</td>\n",
       "    </tr>\n",
       "    <tr>\n",
       "      <th>2021-01-20 00:00:00-05:00</th>\n",
       "      <td>286.246674</td>\n",
       "      <td>286.500000</td>\n",
       "      <td>279.093323</td>\n",
       "      <td>283.483337</td>\n",
       "      <td>76997700</td>\n",
       "      <td>281.663330</td>\n",
       "      <td>0</td>\n",
       "    </tr>\n",
       "    <tr>\n",
       "      <th>2021-01-21 00:00:00-05:00</th>\n",
       "      <td>285.000000</td>\n",
       "      <td>285.239990</td>\n",
       "      <td>280.473328</td>\n",
       "      <td>281.663330</td>\n",
       "      <td>61563300</td>\n",
       "      <td>282.213318</td>\n",
       "      <td>1</td>\n",
       "    </tr>\n",
       "    <tr>\n",
       "      <th>2021-01-22 00:00:00-05:00</th>\n",
       "      <td>278.103333</td>\n",
       "      <td>282.666656</td>\n",
       "      <td>276.206665</td>\n",
       "      <td>282.213318</td>\n",
       "      <td>60199500</td>\n",
       "      <td>293.600006</td>\n",
       "      <td>1</td>\n",
       "    </tr>\n",
       "    <tr>\n",
       "      <th>2021-01-25 00:00:00-05:00</th>\n",
       "      <td>285.000000</td>\n",
       "      <td>300.133331</td>\n",
       "      <td>279.606659</td>\n",
       "      <td>293.600006</td>\n",
       "      <td>123520200</td>\n",
       "      <td>294.363342</td>\n",
       "      <td>1</td>\n",
       "    </tr>\n",
       "  </tbody>\n",
       "</table>\n",
       "</div>"
      ],
      "text/plain": [
       "                                 Open        High         Low       Close  \\\n",
       "Date                                                                        \n",
       "2021-01-04 00:00:00-05:00  239.820007  248.163330  239.063339  243.256668   \n",
       "2021-01-05 00:00:00-05:00  241.220001  246.946671  239.733337  245.036667   \n",
       "2021-01-06 00:00:00-05:00  252.830002  258.000000  249.699997  251.993332   \n",
       "2021-01-07 00:00:00-05:00  259.209991  272.329987  258.399994  272.013336   \n",
       "2021-01-08 00:00:00-05:00  285.333344  294.829987  279.463318  293.339996   \n",
       "2021-01-11 00:00:00-05:00  283.133331  284.809998  267.873322  270.396667   \n",
       "2021-01-12 00:00:00-05:00  277.000000  289.333344  275.779999  283.146667   \n",
       "2021-01-13 00:00:00-05:00  284.253326  286.823334  277.333344  284.803345   \n",
       "2021-01-14 00:00:00-05:00  281.130005  287.666656  279.583344  281.666656   \n",
       "2021-01-15 00:00:00-05:00  284.000000  286.633331  273.033325  275.386658   \n",
       "2021-01-19 00:00:00-05:00  279.266663  283.333344  277.666656  281.516663   \n",
       "2021-01-20 00:00:00-05:00  286.246674  286.500000  279.093323  283.483337   \n",
       "2021-01-21 00:00:00-05:00  285.000000  285.239990  280.473328  281.663330   \n",
       "2021-01-22 00:00:00-05:00  278.103333  282.666656  276.206665  282.213318   \n",
       "2021-01-25 00:00:00-05:00  285.000000  300.133331  279.606659  293.600006   \n",
       "\n",
       "                              Volume    Tomorrow  Target  \n",
       "Date                                                      \n",
       "2021-01-04 00:00:00-05:00  145914600  245.036667       1  \n",
       "2021-01-05 00:00:00-05:00   96735600  251.993332       1  \n",
       "2021-01-06 00:00:00-05:00  134100000  272.013336       1  \n",
       "2021-01-07 00:00:00-05:00  154496700  293.339996       1  \n",
       "2021-01-08 00:00:00-05:00  225166500  270.396667       0  \n",
       "2021-01-11 00:00:00-05:00  177904800  283.146667       1  \n",
       "2021-01-12 00:00:00-05:00  138812100  284.803345       1  \n",
       "2021-01-13 00:00:00-05:00   99937500  281.666656       0  \n",
       "2021-01-14 00:00:00-05:00   93798900  275.386658       0  \n",
       "2021-01-15 00:00:00-05:00  116332800  281.516663       1  \n",
       "2021-01-19 00:00:00-05:00   76101000  283.483337       1  \n",
       "2021-01-20 00:00:00-05:00   76997700  281.663330       0  \n",
       "2021-01-21 00:00:00-05:00   61563300  282.213318       1  \n",
       "2021-01-22 00:00:00-05:00   60199500  293.600006       1  \n",
       "2021-01-25 00:00:00-05:00  123520200  294.363342       1  "
      ]
     },
     "execution_count": 18,
     "metadata": {},
     "output_type": "execute_result"
    }
   ],
   "source": [
    "Tesla.head(15)"
   ]
  },
  {
   "cell_type": "markdown",
   "id": "1576d8ee",
   "metadata": {},
   "source": [
    "## 4. Training an initial Machine learning model"
   ]
  },
  {
   "cell_type": "markdown",
   "id": "65ae5235",
   "metadata": {},
   "source": [
    "### *Key note*\n",
    "*this is time serie data)time series can't use Cross validation.its will get high score in training but not working well in real world*"
   ]
  },
  {
   "cell_type": "code",
   "execution_count": 19,
   "id": "8d897368",
   "metadata": {},
   "outputs": [
    {
     "data": {
      "text/html": [
       "<style>#sk-container-id-1 {color: black;}#sk-container-id-1 pre{padding: 0;}#sk-container-id-1 div.sk-toggleable {background-color: white;}#sk-container-id-1 label.sk-toggleable__label {cursor: pointer;display: block;width: 100%;margin-bottom: 0;padding: 0.3em;box-sizing: border-box;text-align: center;}#sk-container-id-1 label.sk-toggleable__label-arrow:before {content: \"▸\";float: left;margin-right: 0.25em;color: #696969;}#sk-container-id-1 label.sk-toggleable__label-arrow:hover:before {color: black;}#sk-container-id-1 div.sk-estimator:hover label.sk-toggleable__label-arrow:before {color: black;}#sk-container-id-1 div.sk-toggleable__content {max-height: 0;max-width: 0;overflow: hidden;text-align: left;background-color: #f0f8ff;}#sk-container-id-1 div.sk-toggleable__content pre {margin: 0.2em;color: black;border-radius: 0.25em;background-color: #f0f8ff;}#sk-container-id-1 input.sk-toggleable__control:checked~div.sk-toggleable__content {max-height: 200px;max-width: 100%;overflow: auto;}#sk-container-id-1 input.sk-toggleable__control:checked~label.sk-toggleable__label-arrow:before {content: \"▾\";}#sk-container-id-1 div.sk-estimator input.sk-toggleable__control:checked~label.sk-toggleable__label {background-color: #d4ebff;}#sk-container-id-1 div.sk-label input.sk-toggleable__control:checked~label.sk-toggleable__label {background-color: #d4ebff;}#sk-container-id-1 input.sk-hidden--visually {border: 0;clip: rect(1px 1px 1px 1px);clip: rect(1px, 1px, 1px, 1px);height: 1px;margin: -1px;overflow: hidden;padding: 0;position: absolute;width: 1px;}#sk-container-id-1 div.sk-estimator {font-family: monospace;background-color: #f0f8ff;border: 1px dotted black;border-radius: 0.25em;box-sizing: border-box;margin-bottom: 0.5em;}#sk-container-id-1 div.sk-estimator:hover {background-color: #d4ebff;}#sk-container-id-1 div.sk-parallel-item::after {content: \"\";width: 100%;border-bottom: 1px solid gray;flex-grow: 1;}#sk-container-id-1 div.sk-label:hover label.sk-toggleable__label {background-color: #d4ebff;}#sk-container-id-1 div.sk-serial::before {content: \"\";position: absolute;border-left: 1px solid gray;box-sizing: border-box;top: 0;bottom: 0;left: 50%;z-index: 0;}#sk-container-id-1 div.sk-serial {display: flex;flex-direction: column;align-items: center;background-color: white;padding-right: 0.2em;padding-left: 0.2em;position: relative;}#sk-container-id-1 div.sk-item {position: relative;z-index: 1;}#sk-container-id-1 div.sk-parallel {display: flex;align-items: stretch;justify-content: center;background-color: white;position: relative;}#sk-container-id-1 div.sk-item::before, #sk-container-id-1 div.sk-parallel-item::before {content: \"\";position: absolute;border-left: 1px solid gray;box-sizing: border-box;top: 0;bottom: 0;left: 50%;z-index: -1;}#sk-container-id-1 div.sk-parallel-item {display: flex;flex-direction: column;z-index: 1;position: relative;background-color: white;}#sk-container-id-1 div.sk-parallel-item:first-child::after {align-self: flex-end;width: 50%;}#sk-container-id-1 div.sk-parallel-item:last-child::after {align-self: flex-start;width: 50%;}#sk-container-id-1 div.sk-parallel-item:only-child::after {width: 0;}#sk-container-id-1 div.sk-dashed-wrapped {border: 1px dashed gray;margin: 0 0.4em 0.5em 0.4em;box-sizing: border-box;padding-bottom: 0.4em;background-color: white;}#sk-container-id-1 div.sk-label label {font-family: monospace;font-weight: bold;display: inline-block;line-height: 1.2em;}#sk-container-id-1 div.sk-label-container {text-align: center;}#sk-container-id-1 div.sk-container {/* jupyter's `normalize.less` sets `[hidden] { display: none; }` but bootstrap.min.css set `[hidden] { display: none !important; }` so we also need the `!important` here to be able to override the default hidden behavior on the sphinx rendered scikit-learn.org. See: https://github.com/scikit-learn/scikit-learn/issues/21755 */display: inline-block !important;position: relative;}#sk-container-id-1 div.sk-text-repr-fallback {display: none;}</style><div id=\"sk-container-id-1\" class=\"sk-top-container\"><div class=\"sk-text-repr-fallback\"><pre>RandomForestClassifier(min_samples_split=100, random_state=42)</pre><b>In a Jupyter environment, please rerun this cell to show the HTML representation or trust the notebook. <br />On GitHub, the HTML representation is unable to render, please try loading this page with nbviewer.org.</b></div><div class=\"sk-container\" hidden><div class=\"sk-item\"><div class=\"sk-estimator sk-toggleable\"><input class=\"sk-toggleable__control sk-hidden--visually\" id=\"sk-estimator-id-1\" type=\"checkbox\" checked><label for=\"sk-estimator-id-1\" class=\"sk-toggleable__label sk-toggleable__label-arrow\">RandomForestClassifier</label><div class=\"sk-toggleable__content\"><pre>RandomForestClassifier(min_samples_split=100, random_state=42)</pre></div></div></div></div></div>"
      ],
      "text/plain": [
       "RandomForestClassifier(min_samples_split=100, random_state=42)"
      ]
     },
     "execution_count": 19,
     "metadata": {},
     "output_type": "execute_result"
    }
   ],
   "source": [
    "from sklearn.ensemble import RandomForestClassifier\n",
    "\n",
    "\n",
    "model = RandomForestClassifier(n_estimators = 100,min_samples_split=100,random_state=42)\n",
    "\n",
    "\n",
    "train = Tesla.iloc[:-100]\n",
    "test = Tesla.iloc[-100:]\n",
    "\n",
    "predictors = [\"Open\",\"High\",\"Low\",\"Close\",\"Volume\"]\n",
    "\n",
    "model.fit(train[predictors], train[\"Target\"]) "
   ]
  },
  {
   "cell_type": "markdown",
   "id": "0e334916",
   "metadata": {},
   "source": [
    "## 5. Measure how accurate the model is\n",
    "\n",
    " In this case Im using precision_socre because I want to know what the percentage of the time when we said market would go up did it actually go up"
   ]
  },
  {
   "cell_type": "code",
   "execution_count": 20,
   "id": "c53568b4",
   "metadata": {},
   "outputs": [],
   "source": [
    "# Use test-set with preds\n",
    "from sklearn.metrics import precision_score\n",
    "\n",
    "preds = model.predict(test[predictors])# pass test-set to predictors"
   ]
  },
  {
   "cell_type": "code",
   "execution_count": 21,
   "id": "869522fe",
   "metadata": {},
   "outputs": [],
   "source": [
    "#prediction will be in numpy array so change to pandas series to make it easier by \n",
    "#pass .pd.Series and set index as test data set\n",
    "\n",
    "import pandas as pd\n",
    "preds = pd.Series(preds, index=test.index)#set index as test data set"
   ]
  },
  {
   "cell_type": "code",
   "execution_count": 22,
   "id": "e1af90a9",
   "metadata": {},
   "outputs": [
    {
     "data": {
      "text/plain": [
       "Date\n",
       "2023-08-22 00:00:00-04:00    1\n",
       "2023-08-23 00:00:00-04:00    1\n",
       "2023-08-24 00:00:00-04:00    0\n",
       "2023-08-25 00:00:00-04:00    1\n",
       "2023-08-28 00:00:00-04:00    1\n",
       "                            ..\n",
       "2024-01-08 00:00:00-05:00    1\n",
       "2024-01-09 00:00:00-05:00    0\n",
       "2024-01-10 00:00:00-05:00    0\n",
       "2024-01-11 00:00:00-05:00    0\n",
       "2024-01-12 00:00:00-05:00    0\n",
       "Length: 100, dtype: int64"
      ]
     },
     "execution_count": 22,
     "metadata": {},
     "output_type": "execute_result"
    }
   ],
   "source": [
    "preds"
   ]
  },
  {
   "cell_type": "markdown",
   "id": "654fc1b5",
   "metadata": {},
   "source": [
    "# Calculate precision score"
   ]
  },
  {
   "cell_type": "code",
   "execution_count": 23,
   "id": "48a067a6",
   "metadata": {},
   "outputs": [
    {
     "data": {
      "text/plain": [
       "0.5370370370370371"
      ]
     },
     "execution_count": 23,
     "metadata": {},
     "output_type": "execute_result"
    }
   ],
   "source": [
    "precision_score(test[\"Target\"], preds)# using actual target and predicted target"
   ]
  },
  {
   "cell_type": "markdown",
   "id": "9f71e551",
   "metadata": {},
   "source": [
    "### So the score is 51% when we predict stock price go up it only went 51% of the time"
   ]
  },
  {
   "cell_type": "markdown",
   "id": "ea4f5c18",
   "metadata": {},
   "source": [
    "**Note\n",
    "- why test target is actual value?\n",
    "- how to define which one is x_train y_train and "
   ]
  },
  {
   "cell_type": "code",
   "execution_count": 24,
   "id": "64e39737",
   "metadata": {},
   "outputs": [],
   "source": [
    "# Plot our prediction by combine actual value and predicted value by use \"pd.concat(actual value,preds)\"\n",
    "#pass axis=1 for treat each of these inputs as columns in our data set\n",
    "\n",
    "combined = pd.concat([test[\"Target\"],preds], axis=1)#concatenating test target which actual value and preds value"
   ]
  },
  {
   "cell_type": "code",
   "execution_count": 25,
   "id": "dfa85c8d",
   "metadata": {},
   "outputs": [
    {
     "data": {
      "text/plain": [
       "<Axes: xlabel='Date'>"
      ]
     },
     "execution_count": 25,
     "metadata": {},
     "output_type": "execute_result"
    },
    {
     "data": {
      "image/png": "[encoded data removed]",
      "text/plain": [
       "<Figure size 640x480 with 1 Axes>"
      ]
     },
     "metadata": {},
     "output_type": "display_data"
    }
   ],
   "source": [
    "combined.plot()"
   ]
  },
  {
   "cell_type": "markdown",
   "id": "b1dafd6e",
   "metadata": {},
   "source": [
    "** look on graph this is why our prediction still so far "
   ]
  },
  {
   "cell_type": "markdown",
   "id": "f8ed5b02",
   "metadata": {},
   "source": [
    "## Building a backtesting system (robust way) \n",
    "we only able to tes against last 100 days that we split. To use model in the real world we want to be ablw to test across multiple year of data.Because we want to know how our algorithm is going to handle a lot of differrent situations\n",
    "\n",
    "key:\n",
    "- Need to have certian amount of data to train  first model\n",
    "- create prediction funtion\n",
    "- create backtest funtion which is take\n",
    "     - Tesla data, a machine learning model,prediction,start value and step value"
   ]
  },
  {
   "cell_type": "code",
   "execution_count": 26,
   "id": "117a73cb",
   "metadata": {},
   "outputs": [],
   "source": [
    "#Create prediction funtion for backtesting.\n",
    "\n",
    "\n",
    "def predict(train, test, predictors, model):#earier I only test data with the last 100\n",
    "    model.fit(train[predictors], train[\"Target\"])\n",
    "    #generating predictions\n",
    "    preds = model.predict(test[predictors])\n",
    "    #combiled our model into a series as pd.Series\n",
    "    preds = pd.Series(preds, index=test.index, name=\"Predictions\")#giving series a name of prediction\n",
    "    #combining everythings together\n",
    "    combined = pd.concat([test[\"Target\"], preds], axis=1)\n",
    "    #return combined data frame with actual value and the prediction\n",
    "    return combined\n",
    "    "
   ]
  },
  {
   "cell_type": "code",
   "execution_count": 27,
   "id": "c8d92a88",
   "metadata": {},
   "outputs": [],
   "source": [
    "\n",
    "# strat = (#This take 2 years of data and train first model with start yesr that we want)\n",
    "# stop = (we will be training a model a bout a months and going to next day... ans next until it done)\n",
    "def backtest(data, model, predictors, start=500, step=1): \n",
    "    all_predictions =[]\n",
    "    for i in range(start, data.shape[0], step):\n",
    "        train = data.iloc[0:i].copy() \n",
    "        test = data.iloc[i:(i+step)].copy()\n",
    "        predictions = predict(train, test, predictors, model)\n",
    "        all_predictions.append(predictions)\n",
    "    return pd.concat(all_predictions)\n",
    "    "
   ]
  },
  {
   "cell_type": "code",
   "execution_count": 28,
   "id": "a783fe33",
   "metadata": {},
   "outputs": [],
   "source": [
    "predictions = backtest(Tesla, model, predictors)"
   ]
  },
  {
   "cell_type": "markdown",
   "id": "1af8170e",
   "metadata": {},
   "source": [
    "## Valuating the  error of our predictions"
   ]
  },
  {
   "cell_type": "code",
   "execution_count": 29,
   "id": "f39527ee",
   "metadata": {},
   "outputs": [
    {
     "data": {
      "text/plain": [
       "1    150\n",
       "0    112\n",
       "Name: Predictions, dtype: int64"
      ]
     },
     "execution_count": 29,
     "metadata": {},
     "output_type": "execute_result"
    }
   ],
   "source": [
    "predictions[\"Predictions\"].value_counts()"
   ]
  },
  {
   "cell_type": "code",
   "execution_count": 30,
   "id": "3b626bc4",
   "metadata": {},
   "outputs": [
    {
     "data": {
      "text/plain": [
       "0.5533333333333333"
      ]
     },
     "execution_count": 30,
     "metadata": {},
     "output_type": "execute_result"
    }
   ],
   "source": [
    "#the precision score error score by Takes the \"Target\" and \"predictions\"\n",
    "precision_score(predictions[\"Target\"],predictions[\"Predictions\"])"
   ]
  },
  {
   "cell_type": "code",
   "execution_count": 31,
   "id": "d2df370b",
   "metadata": {},
   "outputs": [
    {
     "data": {
      "text/plain": [
       "1    0.534351\n",
       "0    0.465649\n",
       "Name: Target, dtype: float64"
      ]
     },
     "execution_count": 31,
     "metadata": {},
     "output_type": "execute_result"
    }
   ],
   "source": [
    "# Look at the percentage of days where the market actually went up \n",
    "predictions[\"Target\"].value_counts()/predictions.shape[0] "
   ]
  },
  {
   "cell_type": "markdown",
   "id": "450b1a1c",
   "metadata": {},
   "source": [
    "##  Adding additional perdictors to our model"
   ]
  },
  {
   "cell_type": "code",
   "execution_count": 32,
   "id": "a7fee0d3",
   "metadata": {},
   "outputs": [],
   "source": [
    "\n",
    "horizons = [2,5,60,250]\n",
    "new_predictors = []\n",
    "\n",
    "for horizon in horizons:\n",
    "    rolling_averages = Tesla.rolling(horizon).mean()\n",
    "    ratio_column = f\"Close_Ratio_{horizon}\"\n",
    "    Tesla[ratio_column] = Tesla[\"Close\"]/rolling_averages[\"Close\"]\n",
    "    trend_column = f\"Trend_{horizon}\"\n",
    "    Tesla[trend_column] = Tesla.shift(1).rolling(horizon).sum()[\"Target\"]\n",
    "    new_predictors += [ratio_column, trend_column]\n",
    "    "
   ]
  },
  {
   "cell_type": "markdown",
   "id": "013c3ad8",
   "metadata": {},
   "source": [
    "**pandas cann't find enough days or enogh rows it will return NaN**"
   ]
  },
  {
   "cell_type": "markdown",
   "id": "ab56ee89",
   "metadata": {},
   "source": [
    "# Improving our Model"
   ]
  },
  {
   "cell_type": "code",
   "execution_count": 33,
   "id": "c3b49ad1",
   "metadata": {},
   "outputs": [],
   "source": [
    "#Update model and change parameters\n",
    "model = RandomForestClassifier(n_estimators=200,min_samples_split=50,random_state=42)"
   ]
  },
  {
   "cell_type": "code",
   "execution_count": null,
   "id": "196616f7",
   "metadata": {},
   "outputs": [],
   "source": []
  },
  {
   "cell_type": "code",
   "execution_count": 34,
   "id": "132060d6",
   "metadata": {},
   "outputs": [],
   "source": [
    "def predict(train, test, predictors, model):\n",
    "    model.fit(train[predictors], train[\"Target\"])\n",
    "    preds = model.predict_proba(test[predictors])[:,1]\n",
    "    preds[preds >= .6] = 1 \n",
    "    preds[preds <= .6] = 0\n",
    "    preds = pd.Series(preds, index=test.index, name=\"Predictions\")\n",
    "    combined = pd.concat([test[\"Target\"], preds], axis=1)\n",
    "    return combined\n",
    "    "
   ]
  },
  {
   "cell_type": "code",
   "execution_count": 35,
   "id": "58ab334a",
   "metadata": {},
   "outputs": [],
   "source": [
    "# Run our backtest again\n",
    "predictions = backtest(Tesla, model, predictors)"
   ]
  },
  {
   "cell_type": "code",
   "execution_count": 36,
   "id": "de3f428f",
   "metadata": {},
   "outputs": [
    {
     "data": {
      "text/plain": [
       "0.0    197\n",
       "1.0     65\n",
       "Name: Predictions, dtype: int64"
      ]
     },
     "execution_count": 36,
     "metadata": {},
     "output_type": "execute_result"
    }
   ],
   "source": [
    "predictions[\"Predictions\"].value_counts()"
   ]
  },
  {
   "cell_type": "code",
   "execution_count": 37,
   "id": "68303527",
   "metadata": {},
   "outputs": [
    {
     "data": {
      "text/plain": [
       "0.5538461538461539"
      ]
     },
     "execution_count": 37,
     "metadata": {},
     "output_type": "execute_result"
    }
   ],
   "source": [
    "# see precision score on our \"Target\" and \"Prediction\"\n",
    "precision_score(predictions[\"Target\"], predictions[\"Predictions\"])"
   ]
  },
  {
   "cell_type": "code",
   "execution_count": 38,
   "id": "7de7c178",
   "metadata": {},
   "outputs": [],
   "source": [
    "import matplotlib.pyplot as plt\n",
    "import seaborn as sns"
   ]
  },
  {
   "cell_type": "markdown",
   "id": "0f8c8856",
   "metadata": {},
   "source": [
    "# Hyperameter Turning "
   ]
  },
  {
   "cell_type": "code",
   "execution_count": 39,
   "id": "c1773167",
   "metadata": {},
   "outputs": [],
   "source": [
    "import numpy as np"
   ]
  },
  {
   "cell_type": "code",
   "execution_count": 40,
   "id": "27c844a6",
   "metadata": {},
   "outputs": [],
   "source": [
    "model = RandomForestClassifier(n_estimators = 100,min_samples_split=100,random_state=42)"
   ]
  },
  {
   "cell_type": "code",
   "execution_count": 41,
   "id": "fd5f4cc2",
   "metadata": {},
   "outputs": [
    {
     "name": "stdout",
     "output_type": "stream",
     "text": [
      "Fitting 5 folds for each of 30 candidates, totalling 150 fits\n",
      "CPU times: user 9.06 s, sys: 87 ms, total: 9.14 s\n",
      "Wall time: 9.81 s\n"
     ]
    },
    {
     "name": "stderr",
     "output_type": "stream",
     "text": [
      "/Users/m1.thibsuda/anaconda3/lib/python3.10/site-packages/sklearn/model_selection/_validation.py:425: FitFailedWarning: \n",
      "5 fits failed out of a total of 150.\n",
      "The score on these train-test partitions for these parameters will be set to nan.\n",
      "If these failures are not expected, you can try to debug them by setting error_score='raise'.\n",
      "\n",
      "Below are more details about the failures:\n",
      "--------------------------------------------------------------------------------\n",
      "5 fits failed with the following error:\n",
      "Traceback (most recent call last):\n",
      "  File \"/Users/m1.thibsuda/anaconda3/lib/python3.10/site-packages/sklearn/model_selection/_validation.py\", line 732, in _fit_and_score\n",
      "    estimator.fit(X_train, y_train, **fit_params)\n",
      "  File \"/Users/m1.thibsuda/anaconda3/lib/python3.10/site-packages/sklearn/base.py\", line 1144, in wrapper\n",
      "    estimator._validate_params()\n",
      "  File \"/Users/m1.thibsuda/anaconda3/lib/python3.10/site-packages/sklearn/base.py\", line 637, in _validate_params\n",
      "    validate_parameter_constraints(\n",
      "  File \"/Users/m1.thibsuda/anaconda3/lib/python3.10/site-packages/sklearn/utils/_param_validation.py\", line 95, in validate_parameter_constraints\n",
      "    raise InvalidParameterError(\n",
      "sklearn.utils._param_validation.InvalidParameterError: The 'min_samples_split' parameter of RandomForestClassifier must be an int in the range [2, inf) or a float in the range (0.0, 1.0]. Got 1 instead.\n",
      "\n",
      "  warnings.warn(some_fits_failed_message, FitFailedWarning)\n",
      "/Users/m1.thibsuda/anaconda3/lib/python3.10/site-packages/sklearn/model_selection/_search.py:976: UserWarning: One or more of the test scores are non-finite: [0.48196628 0.49401914 0.51354523 0.53321941 0.48340169 0.49858738\n",
      " 0.49252677 0.52563226        nan 0.50904534 0.52868535 0.50005696\n",
      " 0.52714741 0.49399635 0.52262474 0.53775347 0.51656414 0.51809068\n",
      " 0.50609478 0.49403053 0.52563226 0.52563226 0.48950786 0.52262474\n",
      " 0.50307587 0.5241399  0.52261335 0.50612896 0.50153794 0.51961722]\n",
      "  warnings.warn(\n"
     ]
    },
    {
     "data": {
      "text/html": [
       "<style>#sk-container-id-2 {color: black;}#sk-container-id-2 pre{padding: 0;}#sk-container-id-2 div.sk-toggleable {background-color: white;}#sk-container-id-2 label.sk-toggleable__label {cursor: pointer;display: block;width: 100%;margin-bottom: 0;padding: 0.3em;box-sizing: border-box;text-align: center;}#sk-container-id-2 label.sk-toggleable__label-arrow:before {content: \"▸\";float: left;margin-right: 0.25em;color: #696969;}#sk-container-id-2 label.sk-toggleable__label-arrow:hover:before {color: black;}#sk-container-id-2 div.sk-estimator:hover label.sk-toggleable__label-arrow:before {color: black;}#sk-container-id-2 div.sk-toggleable__content {max-height: 0;max-width: 0;overflow: hidden;text-align: left;background-color: #f0f8ff;}#sk-container-id-2 div.sk-toggleable__content pre {margin: 0.2em;color: black;border-radius: 0.25em;background-color: #f0f8ff;}#sk-container-id-2 input.sk-toggleable__control:checked~div.sk-toggleable__content {max-height: 200px;max-width: 100%;overflow: auto;}#sk-container-id-2 input.sk-toggleable__control:checked~label.sk-toggleable__label-arrow:before {content: \"▾\";}#sk-container-id-2 div.sk-estimator input.sk-toggleable__control:checked~label.sk-toggleable__label {background-color: #d4ebff;}#sk-container-id-2 div.sk-label input.sk-toggleable__control:checked~label.sk-toggleable__label {background-color: #d4ebff;}#sk-container-id-2 input.sk-hidden--visually {border: 0;clip: rect(1px 1px 1px 1px);clip: rect(1px, 1px, 1px, 1px);height: 1px;margin: -1px;overflow: hidden;padding: 0;position: absolute;width: 1px;}#sk-container-id-2 div.sk-estimator {font-family: monospace;background-color: #f0f8ff;border: 1px dotted black;border-radius: 0.25em;box-sizing: border-box;margin-bottom: 0.5em;}#sk-container-id-2 div.sk-estimator:hover {background-color: #d4ebff;}#sk-container-id-2 div.sk-parallel-item::after {content: \"\";width: 100%;border-bottom: 1px solid gray;flex-grow: 1;}#sk-container-id-2 div.sk-label:hover label.sk-toggleable__label {background-color: #d4ebff;}#sk-container-id-2 div.sk-serial::before {content: \"\";position: absolute;border-left: 1px solid gray;box-sizing: border-box;top: 0;bottom: 0;left: 50%;z-index: 0;}#sk-container-id-2 div.sk-serial {display: flex;flex-direction: column;align-items: center;background-color: white;padding-right: 0.2em;padding-left: 0.2em;position: relative;}#sk-container-id-2 div.sk-item {position: relative;z-index: 1;}#sk-container-id-2 div.sk-parallel {display: flex;align-items: stretch;justify-content: center;background-color: white;position: relative;}#sk-container-id-2 div.sk-item::before, #sk-container-id-2 div.sk-parallel-item::before {content: \"\";position: absolute;border-left: 1px solid gray;box-sizing: border-box;top: 0;bottom: 0;left: 50%;z-index: -1;}#sk-container-id-2 div.sk-parallel-item {display: flex;flex-direction: column;z-index: 1;position: relative;background-color: white;}#sk-container-id-2 div.sk-parallel-item:first-child::after {align-self: flex-end;width: 50%;}#sk-container-id-2 div.sk-parallel-item:last-child::after {align-self: flex-start;width: 50%;}#sk-container-id-2 div.sk-parallel-item:only-child::after {width: 0;}#sk-container-id-2 div.sk-dashed-wrapped {border: 1px dashed gray;margin: 0 0.4em 0.5em 0.4em;box-sizing: border-box;padding-bottom: 0.4em;background-color: white;}#sk-container-id-2 div.sk-label label {font-family: monospace;font-weight: bold;display: inline-block;line-height: 1.2em;}#sk-container-id-2 div.sk-label-container {text-align: center;}#sk-container-id-2 div.sk-container {/* jupyter's `normalize.less` sets `[hidden] { display: none; }` but bootstrap.min.css set `[hidden] { display: none !important; }` so we also need the `!important` here to be able to override the default hidden behavior on the sphinx rendered scikit-learn.org. See: https://github.com/scikit-learn/scikit-learn/issues/21755 */display: inline-block !important;position: relative;}#sk-container-id-2 div.sk-text-repr-fallback {display: none;}</style><div id=\"sk-container-id-2\" class=\"sk-top-container\"><div class=\"sk-text-repr-fallback\"><pre>RandomizedSearchCV(cv=5,\n",
       "                   estimator=RandomForestClassifier(min_samples_split=100,\n",
       "                                                    random_state=42),\n",
       "                   n_iter=30,\n",
       "                   param_distributions={&#x27;max_depth&#x27;: [None, 1],\n",
       "                                        &#x27;min_samples_leaf&#x27;: array([ 1,  3,  5,  7,  9, 11, 13, 15, 17, 19, 21, 23, 25, 27, 29, 31, 33,\n",
       "       35, 37, 39, 41, 43, 45, 47, 49]),\n",
       "                                        &#x27;min_samples_split&#x27;: array([ 1,  2,  3,  4,  5,  6,  7,  8,  9, 10, 11, 12, 13, 14, 15, 16, 17,\n",
       "       18, 19, 20, 21, 22, 23, 24, 25, 26, 27, 28, 29]),\n",
       "                                        &#x27;n_estimators&#x27;: array([ 10,  15,  20,  25,  30,  35,  40,  45,  50,  55,  60,  65,  70,\n",
       "        75,  80,  85,  90,  95, 100, 105, 110, 115, 120, 125, 130, 135,\n",
       "       140, 145, 150, 155, 160, 165, 170, 175, 180, 185, 190, 195])},\n",
       "                   verbose=True)</pre><b>In a Jupyter environment, please rerun this cell to show the HTML representation or trust the notebook. <br />On GitHub, the HTML representation is unable to render, please try loading this page with nbviewer.org.</b></div><div class=\"sk-container\" hidden><div class=\"sk-item sk-dashed-wrapped\"><div class=\"sk-label-container\"><div class=\"sk-label sk-toggleable\"><input class=\"sk-toggleable__control sk-hidden--visually\" id=\"sk-estimator-id-2\" type=\"checkbox\" ><label for=\"sk-estimator-id-2\" class=\"sk-toggleable__label sk-toggleable__label-arrow\">RandomizedSearchCV</label><div class=\"sk-toggleable__content\"><pre>RandomizedSearchCV(cv=5,\n",
       "                   estimator=RandomForestClassifier(min_samples_split=100,\n",
       "                                                    random_state=42),\n",
       "                   n_iter=30,\n",
       "                   param_distributions={&#x27;max_depth&#x27;: [None, 1],\n",
       "                                        &#x27;min_samples_leaf&#x27;: array([ 1,  3,  5,  7,  9, 11, 13, 15, 17, 19, 21, 23, 25, 27, 29, 31, 33,\n",
       "       35, 37, 39, 41, 43, 45, 47, 49]),\n",
       "                                        &#x27;min_samples_split&#x27;: array([ 1,  2,  3,  4,  5,  6,  7,  8,  9, 10, 11, 12, 13, 14, 15, 16, 17,\n",
       "       18, 19, 20, 21, 22, 23, 24, 25, 26, 27, 28, 29]),\n",
       "                                        &#x27;n_estimators&#x27;: array([ 10,  15,  20,  25,  30,  35,  40,  45,  50,  55,  60,  65,  70,\n",
       "        75,  80,  85,  90,  95, 100, 105, 110, 115, 120, 125, 130, 135,\n",
       "       140, 145, 150, 155, 160, 165, 170, 175, 180, 185, 190, 195])},\n",
       "                   verbose=True)</pre></div></div></div><div class=\"sk-parallel\"><div class=\"sk-parallel-item\"><div class=\"sk-item\"><div class=\"sk-label-container\"><div class=\"sk-label sk-toggleable\"><input class=\"sk-toggleable__control sk-hidden--visually\" id=\"sk-estimator-id-3\" type=\"checkbox\" ><label for=\"sk-estimator-id-3\" class=\"sk-toggleable__label sk-toggleable__label-arrow\">estimator: RandomForestClassifier</label><div class=\"sk-toggleable__content\"><pre>RandomForestClassifier(min_samples_split=100, random_state=42)</pre></div></div></div><div class=\"sk-serial\"><div class=\"sk-item\"><div class=\"sk-estimator sk-toggleable\"><input class=\"sk-toggleable__control sk-hidden--visually\" id=\"sk-estimator-id-4\" type=\"checkbox\" ><label for=\"sk-estimator-id-4\" class=\"sk-toggleable__label sk-toggleable__label-arrow\">RandomForestClassifier</label><div class=\"sk-toggleable__content\"><pre>RandomForestClassifier(min_samples_split=100, random_state=42)</pre></div></div></div></div></div></div></div></div></div></div>"
      ],
      "text/plain": [
       "RandomizedSearchCV(cv=5,\n",
       "                   estimator=RandomForestClassifier(min_samples_split=100,\n",
       "                                                    random_state=42),\n",
       "                   n_iter=30,\n",
       "                   param_distributions={'max_depth': [None, 1],\n",
       "                                        'min_samples_leaf': array([ 1,  3,  5,  7,  9, 11, 13, 15, 17, 19, 21, 23, 25, 27, 29, 31, 33,\n",
       "       35, 37, 39, 41, 43, 45, 47, 49]),\n",
       "                                        'min_samples_split': array([ 1,  2,  3,  4,  5,  6,  7,  8,  9, 10, 11, 12, 13, 14, 15, 16, 17,\n",
       "       18, 19, 20, 21, 22, 23, 24, 25, 26, 27, 28, 29]),\n",
       "                                        'n_estimators': array([ 10,  15,  20,  25,  30,  35,  40,  45,  50,  55,  60,  65,  70,\n",
       "        75,  80,  85,  90,  95, 100, 105, 110, 115, 120, 125, 130, 135,\n",
       "       140, 145, 150, 155, 160, 165, 170, 175, 180, 185, 190, 195])},\n",
       "                   verbose=True)"
      ]
     },
     "execution_count": 41,
     "metadata": {},
     "output_type": "execute_result"
    }
   ],
   "source": [
    "%%time\n",
    "from sklearn.model_selection import RandomizedSearchCV\n",
    "\n",
    "#Create a hyperparameter grid for RandomForeatClassifier.# best params for RandomForestClassifier = n_estimators\n",
    "rf_grid = {\"n_estimators\":np.arange(10,200,5), \n",
    "           \"max_depth\":[None,1],\n",
    "           \"min_samples_split\":np.arange(1,30,1),\n",
    "           \"min_samples_leaf\":np.arange(1,50,2)} \n",
    "rs_model = RandomizedSearchCV(RandomForestClassifier(n_estimators = 100,min_samples_split=100,random_state=42),\n",
    "                             param_distributions = rf_grid,\n",
    "                             n_iter = 30,\n",
    "                             cv = 5,\n",
    "                             verbose =True)\n",
    "\n",
    "rs_model.fit(train[predictors],train[\"Target\"])"
   ]
  },
  {
   "cell_type": "code",
   "execution_count": 42,
   "id": "fc3ad8cc",
   "metadata": {},
   "outputs": [
    {
     "name": "stdout",
     "output_type": "stream",
     "text": [
      "Best Hyperparameters: {'n_estimators': 60, 'min_samples_split': 5, 'min_samples_leaf': 7, 'max_depth': 1}\n"
     ]
    }
   ],
   "source": [
    "best_params = rs_model.best_params_\n",
    "print(\"Best Hyperparameters:\", best_params)"
   ]
  },
  {
   "cell_type": "markdown",
   "id": "41158db3",
   "metadata": {},
   "source": [
    "###  create new ideal  model to try wit best  hyperparammeters"
   ]
  },
  {
   "cell_type": "code",
   "execution_count": 51,
   "id": "2516d9be",
   "metadata": {},
   "outputs": [
    {
     "name": "stdout",
     "output_type": "stream",
     "text": [
      "CPU times: user 38.8 ms, sys: 16.2 ms, total: 55 ms\n",
      "Wall time: 68.6 ms\n"
     ]
    },
    {
     "data": {
      "text/html": [
       "<style>#sk-container-id-4 {color: black;}#sk-container-id-4 pre{padding: 0;}#sk-container-id-4 div.sk-toggleable {background-color: white;}#sk-container-id-4 label.sk-toggleable__label {cursor: pointer;display: block;width: 100%;margin-bottom: 0;padding: 0.3em;box-sizing: border-box;text-align: center;}#sk-container-id-4 label.sk-toggleable__label-arrow:before {content: \"▸\";float: left;margin-right: 0.25em;color: #696969;}#sk-container-id-4 label.sk-toggleable__label-arrow:hover:before {color: black;}#sk-container-id-4 div.sk-estimator:hover label.sk-toggleable__label-arrow:before {color: black;}#sk-container-id-4 div.sk-toggleable__content {max-height: 0;max-width: 0;overflow: hidden;text-align: left;background-color: #f0f8ff;}#sk-container-id-4 div.sk-toggleable__content pre {margin: 0.2em;color: black;border-radius: 0.25em;background-color: #f0f8ff;}#sk-container-id-4 input.sk-toggleable__control:checked~div.sk-toggleable__content {max-height: 200px;max-width: 100%;overflow: auto;}#sk-container-id-4 input.sk-toggleable__control:checked~label.sk-toggleable__label-arrow:before {content: \"▾\";}#sk-container-id-4 div.sk-estimator input.sk-toggleable__control:checked~label.sk-toggleable__label {background-color: #d4ebff;}#sk-container-id-4 div.sk-label input.sk-toggleable__control:checked~label.sk-toggleable__label {background-color: #d4ebff;}#sk-container-id-4 input.sk-hidden--visually {border: 0;clip: rect(1px 1px 1px 1px);clip: rect(1px, 1px, 1px, 1px);height: 1px;margin: -1px;overflow: hidden;padding: 0;position: absolute;width: 1px;}#sk-container-id-4 div.sk-estimator {font-family: monospace;background-color: #f0f8ff;border: 1px dotted black;border-radius: 0.25em;box-sizing: border-box;margin-bottom: 0.5em;}#sk-container-id-4 div.sk-estimator:hover {background-color: #d4ebff;}#sk-container-id-4 div.sk-parallel-item::after {content: \"\";width: 100%;border-bottom: 1px solid gray;flex-grow: 1;}#sk-container-id-4 div.sk-label:hover label.sk-toggleable__label {background-color: #d4ebff;}#sk-container-id-4 div.sk-serial::before {content: \"\";position: absolute;border-left: 1px solid gray;box-sizing: border-box;top: 0;bottom: 0;left: 50%;z-index: 0;}#sk-container-id-4 div.sk-serial {display: flex;flex-direction: column;align-items: center;background-color: white;padding-right: 0.2em;padding-left: 0.2em;position: relative;}#sk-container-id-4 div.sk-item {position: relative;z-index: 1;}#sk-container-id-4 div.sk-parallel {display: flex;align-items: stretch;justify-content: center;background-color: white;position: relative;}#sk-container-id-4 div.sk-item::before, #sk-container-id-4 div.sk-parallel-item::before {content: \"\";position: absolute;border-left: 1px solid gray;box-sizing: border-box;top: 0;bottom: 0;left: 50%;z-index: -1;}#sk-container-id-4 div.sk-parallel-item {display: flex;flex-direction: column;z-index: 1;position: relative;background-color: white;}#sk-container-id-4 div.sk-parallel-item:first-child::after {align-self: flex-end;width: 50%;}#sk-container-id-4 div.sk-parallel-item:last-child::after {align-self: flex-start;width: 50%;}#sk-container-id-4 div.sk-parallel-item:only-child::after {width: 0;}#sk-container-id-4 div.sk-dashed-wrapped {border: 1px dashed gray;margin: 0 0.4em 0.5em 0.4em;box-sizing: border-box;padding-bottom: 0.4em;background-color: white;}#sk-container-id-4 div.sk-label label {font-family: monospace;font-weight: bold;display: inline-block;line-height: 1.2em;}#sk-container-id-4 div.sk-label-container {text-align: center;}#sk-container-id-4 div.sk-container {/* jupyter's `normalize.less` sets `[hidden] { display: none; }` but bootstrap.min.css set `[hidden] { display: none !important; }` so we also need the `!important` here to be able to override the default hidden behavior on the sphinx rendered scikit-learn.org. See: https://github.com/scikit-learn/scikit-learn/issues/21755 */display: inline-block !important;position: relative;}#sk-container-id-4 div.sk-text-repr-fallback {display: none;}</style><div id=\"sk-container-id-4\" class=\"sk-top-container\"><div class=\"sk-text-repr-fallback\"><pre>RandomForestClassifier(max_depth=1, min_samples_leaf=7, min_samples_split=5,\n",
       "                       n_estimators=60, random_state=42)</pre><b>In a Jupyter environment, please rerun this cell to show the HTML representation or trust the notebook. <br />On GitHub, the HTML representation is unable to render, please try loading this page with nbviewer.org.</b></div><div class=\"sk-container\" hidden><div class=\"sk-item\"><div class=\"sk-estimator sk-toggleable\"><input class=\"sk-toggleable__control sk-hidden--visually\" id=\"sk-estimator-id-6\" type=\"checkbox\" checked><label for=\"sk-estimator-id-6\" class=\"sk-toggleable__label sk-toggleable__label-arrow\">RandomForestClassifier</label><div class=\"sk-toggleable__content\"><pre>RandomForestClassifier(max_depth=1, min_samples_leaf=7, min_samples_split=5,\n",
       "                       n_estimators=60, random_state=42)</pre></div></div></div></div></div>"
      ],
      "text/plain": [
       "RandomForestClassifier(max_depth=1, min_samples_leaf=7, min_samples_split=5,\n",
       "                       n_estimators=60, random_state=42)"
      ]
     },
     "execution_count": 51,
     "metadata": {},
     "output_type": "execute_result"
    }
   ],
   "source": [
    "%%time\n",
    "\n",
    "\n",
    "\n",
    "ideal_model = RandomForestClassifier(n_estimators=60,\n",
    "                                   min_samples_leaf=7,\n",
    "                                   min_samples_split=5,\n",
    "                                   max_depth=1,\n",
    "                                   random_state=42)\n",
    "\n",
    "ideal_model.fit(train[predictors],train[\"Target\"])"
   ]
  },
  {
   "cell_type": "code",
   "execution_count": 52,
   "id": "8d27637a",
   "metadata": {},
   "outputs": [
    {
     "data": {
      "text/plain": [
       "0.0    197\n",
       "1.0     65\n",
       "Name: Predictions, dtype: int64"
      ]
     },
     "execution_count": 52,
     "metadata": {},
     "output_type": "execute_result"
    }
   ],
   "source": [
    "# look at value count of predictions again(so now just 1056 days after asked model to be more confident)\n",
    "predictions[\"Predictions\"].value_counts()"
   ]
  },
  {
   "cell_type": "code",
   "execution_count": 45,
   "id": "8d1d4a13",
   "metadata": {},
   "outputs": [
    {
     "name": "stdout",
     "output_type": "stream",
     "text": [
      "Accuracy: 0.49\n",
      "Precision: 0.49\n",
      "Recall: 1.0\n",
      "F1 Score: 0.6577181208053691\n",
      "\n",
      "Classification Report:\n",
      "               precision    recall  f1-score   support\n",
      "\n",
      "           0       0.00      0.00      0.00        51\n",
      "           1       0.49      1.00      0.66        49\n",
      "\n",
      "    accuracy                           0.49       100\n",
      "   macro avg       0.24      0.50      0.33       100\n",
      "weighted avg       0.24      0.49      0.32       100\n",
      "\n",
      "\n",
      "Confusion Matrix:\n",
      " [[ 0 51]\n",
      " [ 0 49]]\n"
     ]
    },
    {
     "name": "stderr",
     "output_type": "stream",
     "text": [
      "/Users/m1.thibsuda/anaconda3/lib/python3.10/site-packages/sklearn/metrics/_classification.py:1469: UndefinedMetricWarning: Precision and F-score are ill-defined and being set to 0.0 in labels with no predicted samples. Use `zero_division` parameter to control this behavior.\n",
      "  _warn_prf(average, modifier, msg_start, len(result))\n",
      "/Users/m1.thibsuda/anaconda3/lib/python3.10/site-packages/sklearn/metrics/_classification.py:1469: UndefinedMetricWarning: Precision and F-score are ill-defined and being set to 0.0 in labels with no predicted samples. Use `zero_division` parameter to control this behavior.\n",
      "  _warn_prf(average, modifier, msg_start, len(result))\n",
      "/Users/m1.thibsuda/anaconda3/lib/python3.10/site-packages/sklearn/metrics/_classification.py:1469: UndefinedMetricWarning: Precision and F-score are ill-defined and being set to 0.0 in labels with no predicted samples. Use `zero_division` parameter to control this behavior.\n",
      "  _warn_prf(average, modifier, msg_start, len(result))\n"
     ]
    }
   ],
   "source": [
    "from sklearn.metrics import accuracy_score, precision_score, recall_score, f1_score, classification_report, confusion_matrix\n",
    "\n",
    "\n",
    "\n",
    "# EvaluateIdeal  model on the test set\n",
    "test_predictions =ideal_model.predict(test[predictors])\n",
    "\n",
    "# Calculate and print multiple evaluation metrics\n",
    "accuracy = accuracy_score(test[\"Target\"], test_predictions)\n",
    "precision = precision_score(test[\"Target\"], test_predictions)\n",
    "recall = recall_score(test[\"Target\"], test_predictions)\n",
    "f1 = f1_score(test[\"Target\"], test_predictions)\n",
    "\n",
    "print(\"Accuracy:\", accuracy)\n",
    "print(\"Precision:\", precision)\n",
    "print(\"Recall:\", recall)\n",
    "print(\"F1 Score:\", f1)\n",
    "\n",
    "# Additional metrics\n",
    "classification_rep = classification_report(test[\"Target\"], test_predictions)\n",
    "confusion_mat = confusion_matrix(test[\"Target\"], test_predictions)\n",
    "\n",
    "print(\"\\nClassification Report:\\n\", classification_rep)\n",
    "print(\"\\nConfusion Matrix:\\n\", confusion_mat)\n"
   ]
  },
  {
   "cell_type": "code",
   "execution_count": 46,
   "id": "776b3df1",
   "metadata": {},
   "outputs": [
    {
     "data": {
      "image/png": "[encoded data removed]",
      "text/plain": [
       "<Figure size 800x600 with 1 Axes>"
      ]
     },
     "metadata": {},
     "output_type": "display_data"
    }
   ],
   "source": [
    "import seaborn as sns\n",
    "import matplotlib.pyplot as plt\n",
    "from sklearn.metrics import confusion_matrix\n",
    "\n",
    "# Assuming test_predictions is your model predictions\n",
    "cm = confusion_matrix(test[\"Target\"], test_predictions)\n",
    "\n",
    "# Create a heatmap\n",
    "plt.figure(figsize=(8, 6))\n",
    "sns.heatmap(cm, annot=True, fmt=\"d\", cmap=\"Blues\", cbar=False)\n",
    "plt.title(\"Confusion Matrix\")\n",
    "plt.xlabel(\"Predicted Label\")\n",
    "plt.ylabel(\"True Label\")\n",
    "plt.show()\n"
   ]
  },
  {
   "cell_type": "code",
   "execution_count": 47,
   "id": "7eaebea8",
   "metadata": {},
   "outputs": [
    {
     "data": {
      "image/png": "[encoded data removed]",
      "text/plain": [
       "<Figure size 1000x600 with 1 Axes>"
      ]
     },
     "metadata": {},
     "output_type": "display_data"
    }
   ],
   "source": [
    "import matplotlib.pyplot as plt\n",
    "from sklearn.metrics import accuracy_score, precision_score, recall_score, f1_score, classification_report, confusion_matrix\n",
    "\n",
    "\n",
    "test_predictions = ideal_model.predict(test[predictors])\n",
    "\n",
    "# Calculate evaluation metrics\n",
    "accuracy = accuracy_score(test[\"Target\"], test_predictions)\n",
    "precision = precision_score(test[\"Target\"], test_predictions)\n",
    "recall = recall_score(test[\"Target\"], test_predictions)\n",
    "f1 = f1_score(test[\"Target\"], test_predictions)\n",
    "\n",
    "# Create a bar plot\n",
    "metrics_names = ['Accuracy', 'Precision', 'Recall', 'F1 Score']\n",
    "metrics_values = [accuracy, precision, recall, f1]\n",
    "\n",
    "plt.figure(figsize=(10, 6))\n",
    "plt.bar(metrics_names, metrics_values, color=['blue', 'green', 'orange', 'red'])\n",
    "plt.ylim(0, 1)  \n",
    "plt.title('Evaluation Metrics')\n",
    "plt.xlabel('Metrics')\n",
    "plt.ylabel('Values')\n",
    "\n",
    "# Display the values on top of the bars\n",
    "for i, value in enumerate(metrics_values):\n",
    "    plt.text(i, value + 0.01, f'{value:.2f}', ha='center', va='bottom')\n",
    "\n",
    "plt.show()\n"
   ]
  },
  {
   "cell_type": "markdown",
   "id": "a3db0073",
   "metadata": {},
   "source": [
    "# Save model"
   ]
  },
  {
   "cell_type": "code",
   "execution_count": 48,
   "id": "19fe5198",
   "metadata": {},
   "outputs": [],
   "source": [
    "import pickle\n",
    "pickle.dump(ideal_model, open(\"Predict_Tesla_price_model.sav\",\"wb\"))"
   ]
  },
  {
   "cell_type": "code",
   "execution_count": 49,
   "id": "8713e42f",
   "metadata": {},
   "outputs": [],
   "source": [
    "load_model = pickle.load(open(\"Predict_Tesla_price_model.sav\",\"rb\"))"
   ]
  },
  {
   "cell_type": "markdown",
   "id": "1c111b9f",
   "metadata": {},
   "source": [
    "# Testing model"
   ]
  },
  {
   "cell_type": "code",
   "execution_count": 50,
   "id": "d0bae26e",
   "metadata": {},
   "outputs": [
    {
     "name": "stdout",
     "output_type": "stream",
     "text": [
      "[1]\n",
      "Tesla price will go up\n"
     ]
    },
    {
     "name": "stderr",
     "output_type": "stream",
     "text": [
      "/Users/m1.thibsuda/anaconda3/lib/python3.10/site-packages/sklearn/base.py:464: UserWarning: X does not have valid feature names, but RandomForestClassifier was fitted with feature names\n",
      "  warnings.warn(\n"
     ]
    }
   ],
   "source": [
    "input_data = (238.11,238.96,232.03,234.96,6705700)\n",
    "\n",
    "#changing the input_data to numpy array\n",
    "input_data_as_numpy_array = np.asarray(input_data)\n",
    "\n",
    "#reshape the array as we are predicting for one instance\n",
    "input_data_reshaped = input_data_as_numpy_array.reshape(1,-1)\n",
    "\n",
    "prediction = load_model.predict(input_data_reshaped)\n",
    "print(prediction)\n",
    "\n",
    "if(prediction[0] ==0):\n",
    "    print('Tesla price will go down')\n",
    "else:\n",
    "    print('Tesla price will go up')\n"
   ]
  },
  {
   "cell_type": "code",
   "execution_count": null,
   "id": "448ff551",
   "metadata": {},
   "outputs": [],
   "source": []
  }
 ],
 "metadata": {
  "kernelspec": {
   "display_name": "Python 3 (ipykernel)",
   "language": "python",
   "name": "python3"
  },
  "language_info": {
   "codemirror_mode": {
    "name": "ipython",
    "version": 3
   },
   "file_extension": ".py",
   "mimetype": "text/x-python",
   "name": "python",
   "nbconvert_exporter": "python",
   "pygments_lexer": "ipython3",
   "version": "3.10.9"
  }
 },
 "nbformat": 4,
 "nbformat_minor": 5
}
